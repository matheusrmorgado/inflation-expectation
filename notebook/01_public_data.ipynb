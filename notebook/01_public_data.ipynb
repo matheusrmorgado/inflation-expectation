{
  "cells": [
    {
      "cell_type": "markdown",
      "metadata": {
        "id": "t-bL7gW32JnO"
      },
      "source": [
        "# **FGV EESP**\n",
        "\n",
        "- ## Dados Econômicos - Brasil\n",
        "---\n",
        "\n"
      ]
    },
    {
      "cell_type": "markdown",
      "metadata": {
        "id": "S60DDHrr2L7c"
      },
      "source": [
        "### **Bibliotecas**"
      ]
    },
    {
      "cell_type": "code",
      "execution_count": null,
      "metadata": {
        "id": "jyv8rwm_2GK_"
      },
      "outputs": [],
      "source": [
        "# Obter os dados do SGS do Banco Central do Brasil\n",
        "install.packages(\"rbcb\")\n",
        "\n",
        "# Salvar dados em formato .xlsx\n",
        "install.packages(\"writexl\")"
      ]
    },
    {
      "cell_type": "code",
      "execution_count": null,
      "metadata": {
        "id": "L3QR8sqJ2NU-"
      },
      "outputs": [],
      "source": [
        "library(dplyr)\n",
        "library(httr)\n",
        "library(jsonlite)\n",
        "library(lubridate)\n",
        "library(readxl)\n",
        "library(rbcb)\n",
        "library(tidyverse)\n",
        "library(writexl)\n",
        "library(zoo)"
      ]
    },
    {
      "cell_type": "markdown",
      "metadata": {
        "id": "QuUqHoAT3Lge"
      },
      "source": [
        "### **Dados**"
      ]
    },
    {
      "cell_type": "markdown",
      "source": [
        "- #### **Expectativa de Inflação do Mercado**\n",
        "\n",
        "  * Referência: [Olinda BCB](https://olinda.bcb.gov.br/olinda/servico/Expectativas/versao/v1/aplicacao#!/recursos/ExpectativasMercadoInflacao12Meses#eyJmb3JtdWxhcmlvIjp7IiRmb3JtYXQiOiJqc29uIiwiJHRvcCI6MTAwLCIkZmlsdGVyIjoiBDkEIGVxIDAgYW5kIAQyBCBlcSAnUycgYW5kIAQwBCBlcSAnSVBDQScgYW5kIAQxBCBnZSAnMjAwNi0wMS0wMScgYW5kIAQxBCBsZSAnMjAyMy0wNi0zMCciLCIkb3JkZXJieSI6IgQxBCBkZXNjIn0sInByb3ByaWVkYWRlcyI6WzAsMSwzLDQsNV0sInBlc3F1aXNhZG8iOnRydWUsImFjdGl2ZVRhYiI6InRhYmxlIiwiZ3JpZFN0YXRlIjp7AzADOlt7A0IDIgQwBCIsA0EDfSx7A0IDIgQxBCIsA0EDfSx7A0IDIgQzBCIsA0EDfSx7A0IDIgQzBG5hIiwDQQN9LHsDQgMiBDUEIiwDQQN9XSwDMQM6e30sAzIDOltdLAMzAzp7fSwDNAM6e30sAzUDOnt9fSwicGl2b3RPcHRpb25zIjp7A2EDOnt9LANiAzpbXSwDYwM6NTAwLANkAzpbIgQxBCJdLANlAzpbXSwDZgM6WyJN6WRpYSJdLANnAzoidmFsdWVfel90b19hIiwDaAM6InZhbHVlX3pfdG9fYSIsA2kDOnt9LANqAzp7fSwDawM6ODUsA2wDOmZhbHNlLANtAzp7fSwDbgM6e30sA28DOiJN6WRpYSIsA3ADOiJMaW5lIENoYXJ0In19)"
      ],
      "metadata": {
        "id": "HCOKstgE365D"
      }
    },
    {
      "cell_type": "code",
      "execution_count": null,
      "metadata": {
        "colab": {
          "base_uri": "https://localhost:8080/"
        },
        "id": "zpsiiBD-5rfj",
        "outputId": "7d15a928-d99c-40bd-f511-4d00e423b8dd"
      },
      "outputs": [
        {
          "output_type": "stream",
          "name": "stderr",
          "text": [
            "\u001b[1m\u001b[22m`summarise()` has grouped output by 'year', 'month_date'. You can override\n",
            "using the `.groups` argument.\n"
          ]
        }
      ],
      "source": [
        "# Definir a URL da API do BCB para obter dados de Expectativa do Mercado para IPCA nos próximos 12 meses\n",
        "url <- \"https://olinda.bcb.gov.br/olinda/servico/Expectativas/versao/v1/odata/ExpectativasMercadoInflacao12Meses?$filter=baseCalculo%20eq%200%20and%20Suavizada%20eq%20'S'%20and%20Indicador%20eq%20'IPCA'%20and%20Data%20ge%20'2005-12-01'%20and%20Data%20le%20'2023-06-30'&$orderby=Data%20desc&$format=json&$select=Indicador,Data,Media,Mediana,DesvioPadrao\"\n",
        "\n",
        "# Realizar a consulta e ler o arquivo JSON\n",
        "response <- GET(url)\n",
        "data_json <- rawToChar(response$content)\n",
        "\n",
        "# Ajuste das colunas de data\n",
        "focus_inflation_expectation <- fromJSON(data_json)$value %>%\n",
        "  mutate(day = ymd(Data),\n",
        "         month_date = floor_date(day, unit = \"month\"),\n",
        "         year = year(month_date),\n",
        "         day_of_week = weekdays(day),\n",
        "         month_name = month(month_date, label = TRUE, abbr = TRUE))\n",
        "\n",
        "# Filtrar apenas as sextas-feiras (Referência do Boletim Focus)\n",
        "fridays_only <- focus_inflation_expectation %>%\n",
        "  filter(day_of_week == \"Friday\")\n",
        "\n",
        "# Calcular média da coluna \"Mediana\" agrupada por \"year\" e \"month_date\"\n",
        "result <- fridays_only %>%\n",
        "  group_by(year, month_date, month_name) %>%\n",
        "  summarize(market_inflation_expectation = round(mean(Mediana), 2))\n",
        "\n",
        "# Conversão em formato de data frame e time series\n",
        "df_olinda <- as.data.frame(ts(result$market_inflation_expectation, start = c(2005, 12), frequency = 12))\n",
        "df_olinda <- rename(df_olinda, market_inflation_expectation = x)\n",
        "\n",
        "# Criação de colunas para mês e ano\n",
        "df_olinda$month = time(df_olinda$market_inflation_expectation)\n",
        "df_olinda$month_date = result$month_date\n",
        "df_olinda$month_name = result$month_name\n",
        "df_olinda$year = result$year"
      ]
    },
    {
      "cell_type": "markdown",
      "source": [
        "- #### **Expectativa de Inflação dos Consumidores**\n",
        "\n",
        "  * Referência: [FGV IBRE](https://extra-ibre.fgv.br/IBRE/sitefgvdados/default.aspx)"
      ],
      "metadata": {
        "id": "Vr-ZxwiQ5FiX"
      }
    },
    {
      "cell_type": "code",
      "execution_count": null,
      "metadata": {
        "id": "VsNx34sIeRM6"
      },
      "outputs": [],
      "source": [
        "# Indicador de Expectativa de Inflação dos Consumidores\n",
        "# Código FGV Dados: 1416188\n",
        "\n",
        "# Caminho do arquivo original\n",
        "file_path <- \"https://github.com/matheusrmorgado/inflation-expectation/raw/main/data/fgv_ibre.xlsx\"\n",
        "\n",
        "# Download do arquivo\n",
        "download.file(file_path, \"fgv_ibre.xlsx\")\n",
        "\n",
        "# Ler o arquivo Excel e converter em dataframe\n",
        "df_fgv <- as.data.frame(read_excel(\"fgv_ibre.xlsx\"))\n",
        "\n",
        "# Filtrar os dados de 2005-12-01 até 2023-06-01\n",
        "df_fgv <- df_fgv %>% filter(as.Date(month_date) >= as.Date(\"2005-12-01\") & as.Date(month_date) <= as.Date(\"2023-06-01\"))\n",
        "\n",
        "# Conversão em formato timeseries\n",
        "df_consumer <- as.data.frame(ts(df_fgv$consumer_inflation_expectation, start = c(2005, 12), frequency = 12))\n",
        "df_consumer <- rename(df_consumer, consumer_inflation_expectation = x)"
      ]
    },
    {
      "cell_type": "markdown",
      "source": [
        "- #### **Dados Macroeconômicos**\n",
        "\n",
        "  * Referência: [SGS BCB](https://www3.bcb.gov.br/sgspub/localizarseries/localizarSeries.do?method=prepararTelaLocalizarSeries)"
      ],
      "metadata": {
        "id": "ha8OSlDG5LGu"
      }
    },
    {
      "cell_type": "code",
      "execution_count": null,
      "metadata": {
        "id": "wJj14GFCd7Fk"
      },
      "outputs": [],
      "source": [
        "# Índice nacional de preços ao consumidor amplo acumulado em 12 meses (%)\n",
        "# SGS: 13522\n",
        "df_ipca <- as.data.frame(get_series(13522, start_date = \"2005-12-01\", end_date = \"2023-06-01\", as = \"ts\"))\n",
        "df_ipca <- rename(df_ipca, ipca = x)\n",
        "\n",
        "# Taxa de juros Selic acumulada no mês anualizada base 252 (% a.a.)\n",
        "# SGS: 4189\n",
        "df_selic <- as.data.frame(get_series(4189, start_date = \"2005-12-01\", end_date = \"2023-06-01\", as = \"ts\"))\n",
        "df_selic <- rename(df_selic, selic = x)\n",
        "\n",
        "# Índice de Atividade Econômica do Banco Central com ajuste sazonal (índice)\n",
        "# SGS: 24364\n",
        "df_ibc_br <- as.data.frame(get_series(24364, start_date = \"2005-12-01\", end_date = \"2023-06-01\", as = \"ts\"))\n",
        "df_ibc_br <- rename(df_ibc_br, ibc_br = x)\n",
        "\n",
        "# Dívida Líquida do Governo Geral (% PIB)\n",
        "# SGS: 4536\n",
        "df_gov_debt <- as.data.frame(get_series(4536, start_date = \"2005-12-01\", end_date = \"2023-06-01\", as = \"ts\"))\n",
        "df_gov_debt <- rename(df_gov_debt, gov_debt = x)\n",
        "\n",
        "# Endividamento das famílias com o SFN em relação à renda acumulada dos últimos 12 meses (%)\n",
        "# SGS: 29037\n",
        "df_household_debt <- as.data.frame(get_series(29037, start_date = \"2005-12-01\", end_date = \"2023-06-01\", as = \"ts\"))\n",
        "df_household_debt <- rename(df_household_debt, household_debt = x)\n",
        "\n",
        "# RNDBF restrita - valores correntes, acumulada 12 meses - R$ (bilhões)/\n",
        "# SGS: 7836\n",
        "df_household_income <- as.data.frame(get_series(7836, start_date = \"2005-12-01\", end_date = \"2023-06-01\", as = \"ts\"))\n",
        "df_household_income <- rename(df_household_income, household_income = x)\n",
        "\n",
        "# PIB acumulado dos últimos 12 meses - Valores correntes - R$ (bilhões)\n",
        "# SGS: 4382\n",
        "df_pib <- as.data.frame(get_series(4382, start_date = \"2005-12-01\", end_date = \"2023-06-01\", as = \"ts\"))\n",
        "df_pib <- rename(df_pib, pib = x)\n",
        "\n",
        "# Taxa de câmbio - Livre - Dólar americano (compra) - Fim de período - mensal (u.m.c./US$)\n",
        "# SGS: 3695\n",
        "df_usd_brl <- as.data.frame(get_series(3695, start_date = \"2005-12-01\", end_date = \"2023-06-01\", as = \"ts\"))\n",
        "df_usd_brl <- rename(df_usd_brl, usd_brl = x)"
      ]
    },
    {
      "cell_type": "markdown",
      "source": [
        "- #### **União de todas as bases de dados**"
      ],
      "metadata": {
        "id": "eqlXfw5b5Xvn"
      }
    },
    {
      "cell_type": "code",
      "execution_count": null,
      "metadata": {
        "id": "eLXnJKCTARR-"
      },
      "outputs": [],
      "source": [
        "# Realiza a unificação de todas as tabelas do BCB e FGV IBRE\n",
        "df_public_data <- cbind(df_olinda, df_consumer, df_ipca, df_selic, df_ibc_br, df_gov_debt, df_household_debt, df_household_income, df_pib, df_usd_brl)\n",
        "\n",
        "# Calcula o lag para IPCA e Selic\n",
        "df_public_data$ipca_lag <- c(NA, df_public_data$ipca[-nrow(df_public_data)])\n",
        "df_public_data$selic_lag <- c(NA, df_public_data$selic[-nrow(df_public_data)])\n",
        "\n",
        "# Converter as colunas \"ipca_lag\" e \"selic_lag\" para séries temporais\n",
        "df_public_data$ipca_lag <- ts(df_public_data$ipca_lag, start = c(2005, 12), frequency = 12)\n",
        "df_public_data$selic_lag <- ts(df_public_data$selic_lag, start = c(2005, 12), frequency = 12)\n",
        "\n",
        "# Reorganiza as colunas, colocando \"month_date\" e \"month\" nas primeiras posições\n",
        "df_public_data <- df_public_data %>% dplyr::select(year, month_name, month_date, month, everything())"
      ]
    },
    {
      "cell_type": "code",
      "source": [
        "# Identificar as variáveis que são Time-Series\n",
        "ts_cols <- sapply(df_public_data, is.ts)\n",
        "\n",
        "# Filtrar o dataframe\n",
        "df_public_data <- df_public_data %>%\n",
        "  filter(month_date >= as.Date(\"2006-01-01\"))\n",
        "\n",
        "# Transformar as colunas identificadas como Time-Series de volta em Time-Series\n",
        "df_public_data[ts_cols] <- lapply(df_public_data[ts_cols], function(x) ts(x, start = c(2006, 1), frequency = 12))"
      ],
      "metadata": {
        "id": "m7-hRq-CuTrv"
      },
      "execution_count": null,
      "outputs": []
    },
    {
      "cell_type": "markdown",
      "source": [
        "- #### **Visualização da base de dados**"
      ],
      "metadata": {
        "id": "ghYa01Oq5dSJ"
      }
    },
    {
      "cell_type": "code",
      "source": [
        "str(df_public_data)"
      ],
      "metadata": {
        "colab": {
          "base_uri": "https://localhost:8080/"
        },
        "id": "Xol4W7xgz3Ui",
        "outputId": "4d419a5b-79cc-468d-fa23-1eeef0631d93"
      },
      "execution_count": null,
      "outputs": [
        {
          "output_type": "stream",
          "name": "stdout",
          "text": [
            "'data.frame':\t210 obs. of  16 variables:\n",
            " $ year                          : num  2006 2006 2006 2006 2006 ...\n",
            " $ month_name                    : Ord.factor w/ 12 levels \"Jan\"<\"Feb\"<\"Mar\"<..: 1 2 3 4 5 6 7 8 9 10 ...\n",
            " $ month_date                    : Date, format: \"2006-01-01\" \"2006-02-01\" ...\n",
            " $ month                         : Time-Series  from 2006 to 2023: 2006 2006 2006 2006 2006 ...\n",
            " $ market_inflation_expectation  : Time-Series  from 2006 to 2023: 4.58 4.49 4.36 4.16 4.18 4.25 4.4 4.48 4.29 4.05 ...\n",
            " $ consumer_inflation_expectation: Time-Series  from 2006 to 2023: 6.9 7 6.9 6.5 6.7 6.3 6.9 6.4 6.3 5.8 ...\n",
            " $ ipca                          : Time-Series  from 2006 to 2023: 5.7 5.51 5.32 4.63 4.23 4.03 3.97 3.84 3.7 3.26 ...\n",
            " $ selic                         : Time-Series  from 2006 to 2023: 17.6 17.3 16.7 16.2 15.7 ...\n",
            " $ ibc_br                        : Time-Series  from 2006 to 2023: 114 114 113 114 116 ...\n",
            " $ gov_debt                      : Time-Series  from 2006 to 2023: 46.7 46.4 46.4 45.6 46.2 ...\n",
            " $ household_debt                : Time-Series  from 2006 to 2023: 19.9 20.1 20.4 20.8 21.1 ...\n",
            " $ household_income              : Time-Series  from 2006 to 2023: 167991 169200 166456 165894 165256 ...\n",
            " $ pib                           : Time-Series  from 2006 to 2023: 2190643 2207671 2225145 2235813 2256419 ...\n",
            " $ usd_brl                       : Time-Series  from 2006 to 2023: 2.22 2.13 2.17 2.09 2.3 ...\n",
            " $ ipca_lag                      : Time-Series  from 2006 to 2023: 5.69 5.7 5.51 5.32 4.63 4.23 4.03 3.97 3.84 3.7 ...\n",
            " $ selic_lag                     : Time-Series  from 2006 to 2023: 18.2 17.6 17.3 16.7 16.2 ...\n"
          ]
        }
      ]
    },
    {
      "cell_type": "code",
      "execution_count": null,
      "metadata": {
        "colab": {
          "base_uri": "https://localhost:8080/",
          "height": 255
        },
        "id": "80etpaws0NUk",
        "outputId": "5e39edc5-bd00-444d-e735-07bcf4aff250"
      },
      "outputs": [
        {
          "output_type": "display_data",
          "data": {
            "text/html": [
              "<table class=\"dataframe\">\n",
              "<caption>A data.frame: 5 × 16</caption>\n",
              "<thead>\n",
              "\t<tr><th></th><th scope=col>year</th><th scope=col>month_name</th><th scope=col>month_date</th><th scope=col>month</th><th scope=col>market_inflation_expectation</th><th scope=col>consumer_inflation_expectation</th><th scope=col>ipca</th><th scope=col>selic</th><th scope=col>ibc_br</th><th scope=col>gov_debt</th><th scope=col>household_debt</th><th scope=col>household_income</th><th scope=col>pib</th><th scope=col>usd_brl</th><th scope=col>ipca_lag</th><th scope=col>selic_lag</th></tr>\n",
              "\t<tr><th></th><th scope=col>&lt;dbl&gt;</th><th scope=col>&lt;ord&gt;</th><th scope=col>&lt;date&gt;</th><th scope=col>&lt;dbl&gt;</th><th scope=col>&lt;dbl&gt;</th><th scope=col>&lt;dbl&gt;</th><th scope=col>&lt;dbl&gt;</th><th scope=col>&lt;dbl&gt;</th><th scope=col>&lt;dbl&gt;</th><th scope=col>&lt;dbl&gt;</th><th scope=col>&lt;dbl&gt;</th><th scope=col>&lt;dbl&gt;</th><th scope=col>&lt;dbl&gt;</th><th scope=col>&lt;dbl&gt;</th><th scope=col>&lt;dbl&gt;</th><th scope=col>&lt;dbl&gt;</th></tr>\n",
              "</thead>\n",
              "<tbody>\n",
              "\t<tr><th scope=row>1</th><td>2006</td><td>Jan</td><td>2006-01-01</td><td>2006.000</td><td>4.58</td><td>6.9</td><td>5.70</td><td>17.65</td><td>113.56</td><td>46.68</td><td>19.89</td><td>167991</td><td>2190643</td><td>2.2152</td><td>5.69</td><td>18.24</td></tr>\n",
              "\t<tr><th scope=row>2</th><td>2006</td><td>Feb</td><td>2006-02-01</td><td>2006.083</td><td>4.49</td><td>7.0</td><td>5.51</td><td>17.28</td><td>113.72</td><td>46.38</td><td>20.11</td><td>169200</td><td>2207671</td><td>2.1347</td><td>5.70</td><td>17.65</td></tr>\n",
              "\t<tr><th scope=row>3</th><td>2006</td><td>Mar</td><td>2006-03-01</td><td>2006.167</td><td>4.36</td><td>6.9</td><td>5.32</td><td>16.74</td><td>113.48</td><td>46.38</td><td>20.45</td><td>166456</td><td>2225145</td><td>2.1716</td><td>5.51</td><td>17.28</td></tr>\n",
              "\t<tr><th scope=row>4</th><td>2006</td><td>Apr</td><td>2006-04-01</td><td>2006.250</td><td>4.16</td><td>6.5</td><td>4.63</td><td>16.19</td><td>114.33</td><td>45.59</td><td>20.78</td><td>165894</td><td>2235813</td><td>2.0884</td><td>5.32</td><td>16.74</td></tr>\n",
              "\t<tr><th scope=row>5</th><td>2006</td><td>May</td><td>2006-05-01</td><td>2006.333</td><td>4.18</td><td>6.7</td><td>4.23</td><td>15.70</td><td>115.65</td><td>46.21</td><td>21.07</td><td>165256</td><td>2256419</td><td>2.2997</td><td>4.63</td><td>16.19</td></tr>\n",
              "</tbody>\n",
              "</table>\n"
            ],
            "text/markdown": "\nA data.frame: 5 × 16\n\n| <!--/--> | year &lt;dbl&gt; | month_name &lt;ord&gt; | month_date &lt;date&gt; | month &lt;dbl&gt; | market_inflation_expectation &lt;dbl&gt; | consumer_inflation_expectation &lt;dbl&gt; | ipca &lt;dbl&gt; | selic &lt;dbl&gt; | ibc_br &lt;dbl&gt; | gov_debt &lt;dbl&gt; | household_debt &lt;dbl&gt; | household_income &lt;dbl&gt; | pib &lt;dbl&gt; | usd_brl &lt;dbl&gt; | ipca_lag &lt;dbl&gt; | selic_lag &lt;dbl&gt; |\n|---|---|---|---|---|---|---|---|---|---|---|---|---|---|---|---|---|\n| 1 | 2006 | Jan | 2006-01-01 | 2006.000 | 4.58 | 6.9 | 5.70 | 17.65 | 113.56 | 46.68 | 19.89 | 167991 | 2190643 | 2.2152 | 5.69 | 18.24 |\n| 2 | 2006 | Feb | 2006-02-01 | 2006.083 | 4.49 | 7.0 | 5.51 | 17.28 | 113.72 | 46.38 | 20.11 | 169200 | 2207671 | 2.1347 | 5.70 | 17.65 |\n| 3 | 2006 | Mar | 2006-03-01 | 2006.167 | 4.36 | 6.9 | 5.32 | 16.74 | 113.48 | 46.38 | 20.45 | 166456 | 2225145 | 2.1716 | 5.51 | 17.28 |\n| 4 | 2006 | Apr | 2006-04-01 | 2006.250 | 4.16 | 6.5 | 4.63 | 16.19 | 114.33 | 45.59 | 20.78 | 165894 | 2235813 | 2.0884 | 5.32 | 16.74 |\n| 5 | 2006 | May | 2006-05-01 | 2006.333 | 4.18 | 6.7 | 4.23 | 15.70 | 115.65 | 46.21 | 21.07 | 165256 | 2256419 | 2.2997 | 4.63 | 16.19 |\n\n",
            "text/latex": "A data.frame: 5 × 16\n\\begin{tabular}{r|llllllllllllllll}\n  & year & month\\_name & month\\_date & month & market\\_inflation\\_expectation & consumer\\_inflation\\_expectation & ipca & selic & ibc\\_br & gov\\_debt & household\\_debt & household\\_income & pib & usd\\_brl & ipca\\_lag & selic\\_lag\\\\\n  & <dbl> & <ord> & <date> & <dbl> & <dbl> & <dbl> & <dbl> & <dbl> & <dbl> & <dbl> & <dbl> & <dbl> & <dbl> & <dbl> & <dbl> & <dbl>\\\\\n\\hline\n\t1 & 2006 & Jan & 2006-01-01 & 2006.000 & 4.58 & 6.9 & 5.70 & 17.65 & 113.56 & 46.68 & 19.89 & 167991 & 2190643 & 2.2152 & 5.69 & 18.24\\\\\n\t2 & 2006 & Feb & 2006-02-01 & 2006.083 & 4.49 & 7.0 & 5.51 & 17.28 & 113.72 & 46.38 & 20.11 & 169200 & 2207671 & 2.1347 & 5.70 & 17.65\\\\\n\t3 & 2006 & Mar & 2006-03-01 & 2006.167 & 4.36 & 6.9 & 5.32 & 16.74 & 113.48 & 46.38 & 20.45 & 166456 & 2225145 & 2.1716 & 5.51 & 17.28\\\\\n\t4 & 2006 & Apr & 2006-04-01 & 2006.250 & 4.16 & 6.5 & 4.63 & 16.19 & 114.33 & 45.59 & 20.78 & 165894 & 2235813 & 2.0884 & 5.32 & 16.74\\\\\n\t5 & 2006 & May & 2006-05-01 & 2006.333 & 4.18 & 6.7 & 4.23 & 15.70 & 115.65 & 46.21 & 21.07 & 165256 & 2256419 & 2.2997 & 4.63 & 16.19\\\\\n\\end{tabular}\n",
            "text/plain": [
              "  year month_name month_date month    market_inflation_expectation\n",
              "1 2006 Jan        2006-01-01 2006.000 4.58                        \n",
              "2 2006 Feb        2006-02-01 2006.083 4.49                        \n",
              "3 2006 Mar        2006-03-01 2006.167 4.36                        \n",
              "4 2006 Apr        2006-04-01 2006.250 4.16                        \n",
              "5 2006 May        2006-05-01 2006.333 4.18                        \n",
              "  consumer_inflation_expectation ipca selic ibc_br gov_debt household_debt\n",
              "1 6.9                            5.70 17.65 113.56 46.68    19.89         \n",
              "2 7.0                            5.51 17.28 113.72 46.38    20.11         \n",
              "3 6.9                            5.32 16.74 113.48 46.38    20.45         \n",
              "4 6.5                            4.63 16.19 114.33 45.59    20.78         \n",
              "5 6.7                            4.23 15.70 115.65 46.21    21.07         \n",
              "  household_income pib     usd_brl ipca_lag selic_lag\n",
              "1 167991           2190643 2.2152  5.69     18.24    \n",
              "2 169200           2207671 2.1347  5.70     17.65    \n",
              "3 166456           2225145 2.1716  5.51     17.28    \n",
              "4 165894           2235813 2.0884  5.32     16.74    \n",
              "5 165256           2256419 2.2997  4.63     16.19    "
            ]
          },
          "metadata": {}
        }
      ],
      "source": [
        "head(df_public_data, 5)"
      ]
    },
    {
      "cell_type": "markdown",
      "source": [
        "- #### **Salvar em formato `.csv` e `.xlsx`**"
      ],
      "metadata": {
        "id": "BtWrxUCX5iG2"
      }
    },
    {
      "cell_type": "code",
      "source": [
        "# Salve o DataFrame como um arquivo CSV localmente\n",
        "write.csv(df_public_data, file = \"public_data.csv\", row.names = FALSE)"
      ],
      "metadata": {
        "id": "6prspGu35tBC"
      },
      "execution_count": null,
      "outputs": []
    },
    {
      "cell_type": "code",
      "source": [
        "# Salve o DataFrame como um arquivo XLSX localmente\n",
        "write_xlsx(df_public_data, path = \"/content/public_data.xlsx\")"
      ],
      "metadata": {
        "id": "xOSZhRLm1ieu"
      },
      "execution_count": null,
      "outputs": []
    }
  ],
  "metadata": {
    "colab": {
      "provenance": [],
      "authorship_tag": "ABX9TyN5UoDeQLi3EPmefdFZ7Bxm"
    },
    "kernelspec": {
      "display_name": "R",
      "name": "ir"
    },
    "language_info": {
      "name": "R"
    }
  },
  "nbformat": 4,
  "nbformat_minor": 0
}