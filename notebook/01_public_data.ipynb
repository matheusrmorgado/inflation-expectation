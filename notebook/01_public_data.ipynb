{
  "cells": [
    {
      "cell_type": "markdown",
      "metadata": {
        "id": "t-bL7gW32JnO"
      },
      "source": [
        "# **FGV EESP**\n",
        "\n",
        "- ## Dados Econômicos - Brasil\n",
        "---\n",
        "\n"
      ]
    },
    {
      "cell_type": "markdown",
      "metadata": {
        "id": "S60DDHrr2L7c"
      },
      "source": [
        "### **Bibliotecas**"
      ]
    },
    {
      "cell_type": "code",
      "execution_count": null,
      "metadata": {
        "id": "jyv8rwm_2GK_"
      },
      "outputs": [],
      "source": [
        "# Obter os dados do SGS do Banco Central do Brasil\n",
        "install.packages(\"rbcb\")\n",
        "\n",
        "# Salvar dados em formato .xlsx\n",
        "install.packages(\"writexl\")\n",
        "\n",
        "# Implementar filtro HP\n",
        "install.packages(\"mFilter\")"
      ]
    },
    {
      "cell_type": "code",
      "execution_count": null,
      "metadata": {
        "id": "L3QR8sqJ2NU-"
      },
      "outputs": [],
      "source": [
        "library(dplyr)\n",
        "library(httr)\n",
        "library(jsonlite)\n",
        "library(lubridate)\n",
        "library(mFilter)\n",
        "library(readxl)\n",
        "library(rbcb)\n",
        "library(tidyverse)\n",
        "library(writexl)\n",
        "library(zoo)"
      ]
    },
    {
      "cell_type": "markdown",
      "metadata": {
        "id": "QuUqHoAT3Lge"
      },
      "source": [
        "### **Dados**"
      ]
    },
    {
      "cell_type": "markdown",
      "metadata": {
        "id": "HCOKstgE365D"
      },
      "source": [
        "- #### **Expectativa de Inflação do Mercado**\n",
        "\n",
        "  * Referência: [Olinda BCB](https://olinda.bcb.gov.br/olinda/servico/Expectativas/versao/v1/aplicacao#!/recursos/ExpectativasMercadoInflacao12Meses#eyJmb3JtdWxhcmlvIjp7IiRmb3JtYXQiOiJqc29uIiwiJHRvcCI6MTAwLCIkZmlsdGVyIjoiBDkEIGVxIDAgYW5kIAQyBCBlcSAnUycgYW5kIAQwBCBlcSAnSVBDQScgYW5kIAQxBCBnZSAnMjAwNi0wMS0wMScgYW5kIAQxBCBsZSAnMjAyMy0wNi0zMCciLCIkb3JkZXJieSI6IgQxBCBkZXNjIn0sInByb3ByaWVkYWRlcyI6WzAsMSwzLDQsNV0sInBlc3F1aXNhZG8iOnRydWUsImFjdGl2ZVRhYiI6InRhYmxlIiwiZ3JpZFN0YXRlIjp7AzADOlt7A0IDIgQwBCIsA0EDfSx7A0IDIgQxBCIsA0EDfSx7A0IDIgQzBCIsA0EDfSx7A0IDIgQzBG5hIiwDQQN9LHsDQgMiBDUEIiwDQQN9XSwDMQM6e30sAzIDOltdLAMzAzp7fSwDNAM6e30sAzUDOnt9fSwicGl2b3RPcHRpb25zIjp7A2EDOnt9LANiAzpbXSwDYwM6NTAwLANkAzpbIgQxBCJdLANlAzpbXSwDZgM6WyJN6WRpYSJdLANnAzoidmFsdWVfel90b19hIiwDaAM6InZhbHVlX3pfdG9fYSIsA2kDOnt9LANqAzp7fSwDawM6ODUsA2wDOmZhbHNlLANtAzp7fSwDbgM6e30sA28DOiJN6WRpYSIsA3ADOiJMaW5lIENoYXJ0In19)"
      ]
    },
    {
      "cell_type": "code",
      "execution_count": 3,
      "metadata": {
        "id": "zpsiiBD-5rfj",
        "colab": {
          "base_uri": "https://localhost:8080/"
        },
        "outputId": "7a6fb2cf-6840-48bb-f3dd-da4e96d65f72"
      },
      "outputs": [
        {
          "output_type": "stream",
          "name": "stderr",
          "text": [
            "\u001b[1m\u001b[22m`summarise()` has grouped output by 'year', 'month_date'. You can override\n",
            "using the `.groups` argument.\n"
          ]
        }
      ],
      "source": [
        "# Definir a URL da API do BCB para obter dados de Expectativa do Mercado para IPCA nos próximos 12 meses\n",
        "url <- \"https://olinda.bcb.gov.br/olinda/servico/Expectativas/versao/v1/odata/ExpectativasMercadoInflacao12Meses?$filter=baseCalculo%20eq%200%20and%20Suavizada%20eq%20'S'%20and%20Indicador%20eq%20'IPCA'%20and%20Data%20ge%20'2005-12-01'%20and%20Data%20le%20'2023-06-30'&$orderby=Data%20desc&$format=json&$select=Indicador,Data,Media,Mediana,DesvioPadrao\"\n",
        "\n",
        "# Realizar a consulta e ler o arquivo JSON\n",
        "response <- GET(url)\n",
        "data_json <- rawToChar(response$content)\n",
        "\n",
        "# Ajuste das colunas de data\n",
        "focus_inflation_expectation <- fromJSON(data_json)$value %>%\n",
        "  mutate(day = ymd(Data),\n",
        "         month_date = floor_date(day, unit = \"month\"),\n",
        "         year = year(month_date),\n",
        "         day_of_week = weekdays(day),\n",
        "         month_name = month(month_date, label = TRUE, abbr = TRUE))\n",
        "\n",
        "# Filtrar apenas as sextas-feiras (Referência do Boletim Focus)\n",
        "df_fridays_only <- focus_inflation_expectation %>%\n",
        "  filter(day_of_week == \"Friday\")\n",
        "\n",
        "# Calcular média da coluna \"Mediana\" agrupada por \"year\" e \"month_date\"\n",
        "df_olinda <- as.data.frame(df_fridays_only %>%\n",
        "  group_by(year, month_date, month_name) %>%\n",
        "  summarize(market_inflation_expectation = round(mean(Mediana), 2)))\n",
        "\n",
        "# Converter variável em série temporal\n",
        "df_olinda$market_inflation_expectation <- ts(df_olinda$market_inflation_expectation, start = c(2005, 12), frequency = 12)\n",
        "\n",
        "# Adicionar a coluna 'month' com base em 'market_inflation_expectation'\n",
        "df_olinda$month <- time(df_olinda$market_inflation_expectation)"
      ]
    },
    {
      "cell_type": "markdown",
      "metadata": {
        "id": "_c2y1Tp4Fz0p"
      },
      "source": [
        "- #### **Meta de Inflação**\n",
        "\n",
        "  * Referência: [BCB](https://www.bcb.gov.br/controleinflacao/historicometas)"
      ]
    },
    {
      "cell_type": "code",
      "execution_count": 4,
      "metadata": {
        "id": "ikQq_vtcFzG9"
      },
      "outputs": [],
      "source": [
        "# Histórico das metas para a inflação\n",
        "\n",
        "# Caminho do arquivo original\n",
        "file_path <- \"https://github.com/matheusrmorgado/inflation-expectation/raw/main/data/bcb_inflation_target.xlsx\"\n",
        "\n",
        "# Download do arquivo\n",
        "download.file(file_path, \"bcb_inflation_target.xlsx\")\n",
        "\n",
        "# Ler o arquivo Excel e converter em dataframe\n",
        "df_bcb <- as.data.frame(read_excel(\"bcb_inflation_target.xlsx\"))\n",
        "\n",
        "# Filtrar os dados de 2005-12-01 até 2023-06-01\n",
        "df_bcb <- df_bcb %>% filter(as.Date(month_date) >= as.Date(\"2005-12-01\") & as.Date(month_date) <= as.Date(\"2023-06-01\"))\n",
        "\n",
        "# Lista de variáveis\n",
        "variables_to_convert <- c(\"inflation_target\",\"inflation_target_lower_bound\",\"inflation_target_upper_bound\",\"inflation_target_wtd_avg\",\"inflation_target_lower_bound_wtd_avg\",\"inflation_target_upper_bound_wtd_avg\")\n",
        "\n",
        "# Loop para converter as variáveis em séries temporais\n",
        "for (variable in variables_to_convert) {\n",
        "  df_bcb[[variable]] <- ts(df_bcb[[variable]], start = c(2005, 12), frequency = 12)\n",
        "}\n",
        "\n",
        "# Selecionar apenas variáveis relacionadas a inflação\n",
        "df_bcb <- df_bcb[, 3:8]"
      ]
    },
    {
      "cell_type": "markdown",
      "metadata": {
        "id": "Vr-ZxwiQ5FiX"
      },
      "source": [
        "- #### **Expectativa de Inflação dos Consumidores**\n",
        "\n",
        "  * Referência: [FGV IBRE](https://extra-ibre.fgv.br/IBRE/sitefgvdados/default.aspx)"
      ]
    },
    {
      "cell_type": "code",
      "execution_count": 5,
      "metadata": {
        "id": "VsNx34sIeRM6"
      },
      "outputs": [],
      "source": [
        "# Indicador de Expectativa de Inflação dos Consumidores\n",
        "# Código FGV Dados: 1416188\n",
        "\n",
        "# Caminho do arquivo original\n",
        "file_path <- \"https://github.com/matheusrmorgado/inflation-expectation/raw/main/data/fgv_ibre.xlsx\"\n",
        "\n",
        "# Download do arquivo\n",
        "download.file(file_path, \"fgv_ibre.xlsx\")\n",
        "\n",
        "# Ler o arquivo Excel e converter em dataframe\n",
        "df_fgv <- as.data.frame(read_excel(\"fgv_ibre.xlsx\"))\n",
        "\n",
        "# Filtrar os dados de 2005-12-01 até 2023-06-01\n",
        "df_fgv <- df_fgv %>% filter(as.Date(month_date) >= as.Date(\"2005-12-01\") & as.Date(month_date) <= as.Date(\"2023-06-01\"))\n",
        "\n",
        "# Conversão em formato timeseries\n",
        "df_consumer <- as.data.frame(ts(df_fgv$consumer_inflation_expectation, start = c(2005, 12), frequency = 12))\n",
        "df_consumer <- rename(df_consumer, consumer_inflation_expectation = x)"
      ]
    },
    {
      "cell_type": "markdown",
      "metadata": {
        "id": "ha8OSlDG5LGu"
      },
      "source": [
        "- #### **Dados Macroeconômicos**\n",
        "\n",
        "  * Referência: [SGS BCB](https://www3.bcb.gov.br/sgspub/localizarseries/localizarSeries.do?method=prepararTelaLocalizarSeries)"
      ]
    },
    {
      "cell_type": "code",
      "execution_count": 6,
      "metadata": {
        "id": "wJj14GFCd7Fk"
      },
      "outputs": [],
      "source": [
        "# Índice nacional de preços ao consumidor amplo acumulado em 12 meses (%)\n",
        "# SGS: 13522\n",
        "df_ipca <- as.data.frame(get_series(13522, start_date = \"2005-12-01\", end_date = \"2023-06-01\", as = \"ts\")) %>% rename(ipca = x)\n",
        "\n",
        "# Taxa de juros Selic acumulada no mês anualizada base 252 (% a.a.)\n",
        "# SGS: 4189\n",
        "df_selic <- as.data.frame(get_series(4189, start_date = \"2005-12-01\", end_date = \"2023-06-01\", as = \"ts\")) %>% rename(selic = x)\n",
        "\n",
        "# Selic deflacionada pelo IPCA\n",
        "df_selic_deflated <- 100*(((1+df_selic/100)/(1+df_ipca/100))-1) %>% rename(selic_deflated = selic)\n",
        "\n",
        "# Índice da taxa de câmbio real efetiva (IPCA) - Jun/1994=100\n",
        "# SGS: 11752\n",
        "df_real_exchange_rate <- as.data.frame(get_series(11752, start_date = \"2005-12-01\", end_date = \"2023-06-01\", as = \"ts\")) %>% rename(real_exchange_rate = x)\n",
        "df_real_exchange_rate$real_exchange_rate_trend <- as.numeric(hpfilter(df_real_exchange_rate$real_exchange_rate)$trend)\n",
        "df_real_exchange_rate$real_exchange_rate_trend <- ts(df_real_exchange_rate$real_exchange_rate_trend, start = c(2005, 12), frequency = 12)\n",
        "df_real_exchange_rate$real_exchange_rate_trend_diff <- 100*((df_real_exchange_rate$real_exchange_rate/df_real_exchange_rate$real_exchange_rate_trend) - 1)\n",
        "\n",
        "# PIB acumulado dos últimos 12 meses - Valores correntes - R$ (bilhões)\n",
        "# SGS: 4382\n",
        "df_pib <- as.data.frame(get_series(4382, start_date = \"2005-12-01\", end_date = \"2023-06-01\", as = \"ts\")) %>% rename(pib = x)\n",
        "\n",
        "# Necessidade de Financiamento do Setor Público (NFSP) sem desvalorização cambial - Fluxo acumulado em 12 meses - Resultado primário - Total - Setor público consolidado\n",
        "# SGS: 5078\n",
        "df_primary_fiscal_result <- as.data.frame(get_series(5078, start_date = \"2005-12-01\", end_date = \"2023-06-01\", as = \"ts\")) %>% rename(primary_fiscal_result = x)\n",
        "\n",
        "# Necessidade de Financiamento do Setor Público (NFSP) sem desvalorização cambial (% PIB) - Fluxo acumulado em 12 meses - Resultado primário - Total - Setor público consolidado\n",
        "# SGS: 5793\n",
        "df_primary_fiscal_result_pct_pib <- as.data.frame(get_series(5793, start_date = \"2005-12-01\", end_date = \"2023-06-01\", as = \"ts\")) %>% rename(primary_fiscal_result_pct_pib = x)"
      ]
    },
    {
      "cell_type": "code",
      "execution_count": null,
      "metadata": {
        "id": "YOMGLenBJ0a1"
      },
      "outputs": [],
      "source": [
        "# Renda Nacional Disponível Bruta das Famílias - em valores correntes (média móvel trimestral)\n",
        "# SGS: 29023\n",
        "df_income <- as.data.frame(get_series(29023, start_date = \"2004-06-01\", end_date = \"2023-06-01\")) %>%\n",
        "  rename(household_income = \"29023\") %>%\n",
        "  mutate(household_income = rollapply(household_income, width = 12, FUN = mean, fill = NA, align = \"right\")) %>%\n",
        "  mutate(income_increase = 100 * ((household_income - lag(household_income, n = 12)) / lag(household_income, n = 12))) %>%\n",
        "  filter(date >= as.Date(\"2005-12-01\")) %>%\n",
        "  select(income_increase)\n",
        "\n",
        "df_income$income_increase <- ts(df_income$income_increase, start = c(2005, 12), frequency = 12)\n",
        "df_income_deflated <- 100*(((1+df_income/100)/(1+df_ipca/100))-1) %>% rename(income_increase_deflated = \"income_increase\")\n",
        "\n",
        "# Renda Nacional Disponível Bruta das Famílias, em valores constantes, deflacionada pelo IPCA (média móvel trimestral)\n",
        "# SGS: 29025\n",
        "df_rndbf_deflated <- as.data.frame(get_series(29025, start_date = \"2004-06-01\", end_date = \"2023-06-01\")) %>%\n",
        "  rename(household_income_deflated = \"29025\") %>%\n",
        "  mutate(household_income_deflated = rollapply(household_income_deflated, width = 12, FUN = mean, fill = NA, align = \"right\")) %>%\n",
        "  filter(date >= as.Date(\"2005-12-01\")) %>%\n",
        "  select(household_income_deflated)\n",
        "\n",
        "df_rndbf_deflated$household_income_deflated <- ts(df_rndbf_deflated$household_income_deflated, start = c(2005, 12), frequency = 12)\n",
        "df_rndbf_deflated$household_income_deflated_trend <- as.numeric(hpfilter(df_rndbf_deflated$household_income_deflated)$trend)\n",
        "df_rndbf_deflated$household_income_deflated_trend <- ts(df_rndbf_deflated$household_income_deflated_trend, start = c(2005, 12), frequency = 12)\n",
        "df_rndbf_deflated$household_income_deflated_trend_diff <- 100*((df_rndbf_deflated$household_income_deflated/df_rndbf_deflated$household_income_deflated_trend) - 1)"
      ]
    },
    {
      "cell_type": "code",
      "execution_count": 9,
      "metadata": {
        "id": "XwGFpG4WtX4p"
      },
      "outputs": [],
      "source": [
        "# Salário Mínimo\n",
        "# SGS: 1619\n",
        "df_wage <- as.data.frame(get_series(1619, start_date = \"2004-06-01\", end_date = \"2023-06-01\")) %>%\n",
        "  rename(minimum_wage = \"1619\") %>%\n",
        "  mutate(minimum_wage = rollapply(minimum_wage, width = 12, FUN = mean, fill = NA, align = \"right\")) %>%\n",
        "  mutate(minimum_wage_increase = 100 * ((minimum_wage - lag(minimum_wage, n = 12)) / lag(minimum_wage, n = 12))) %>%\n",
        "  filter(date >= as.Date(\"2005-12-01\")) %>%\n",
        "  select(minimum_wage_increase)\n",
        "\n",
        "df_wage$minimum_wage_increase <- ts(df_wage$minimum_wage_increase, start = c(2005, 12), frequency = 12)\n",
        "df_wage_deflated <- 100*(((1+df_wage/100)/(1+df_ipca/100))-1) %>% rename(minimum_wage_increase_deflated = \"minimum_wage_increase\")"
      ]
    },
    {
      "cell_type": "markdown",
      "metadata": {
        "id": "eqlXfw5b5Xvn"
      },
      "source": [
        "- #### **União de todas as bases de dados**"
      ]
    },
    {
      "cell_type": "code",
      "execution_count": 10,
      "metadata": {
        "id": "eLXnJKCTARR-"
      },
      "outputs": [],
      "source": [
        "# Realiza a unificação de todas as tabelas do BCB e FGV IBRE\n",
        "df_public_data <- cbind(df_olinda, df_consumer, df_bcb, df_ipca, df_selic, df_selic_deflated, df_wage, df_wage_deflated, df_income, df_income_deflated, df_rndbf_deflated, df_real_exchange_rate, df_pib, df_primary_fiscal_result, df_primary_fiscal_result_pct_pib)\n",
        "\n",
        "# Calcula o lag para IPCA e Selic\n",
        "df_public_data$ipca_lag <- c(NA, df_public_data$ipca[-nrow(df_public_data)])\n",
        "df_public_data$selic_deflated_lag <- c(NA, df_public_data$selic_deflated[-nrow(df_public_data)])\n",
        "df_public_data$primary_fiscal_result_pct_pib_lag <- c(NA, df_public_data$primary_fiscal_result_pct_pib[-nrow(df_public_data)])\n",
        "df_public_data$real_exchange_rate_trend_diff_lag <- c(NA, df_public_data$real_exchange_rate_trend_diff[-nrow(df_public_data)])\n",
        "df_public_data$household_income_deflated_trend_diff_lag <- c(NA, df_public_data$household_income_deflated_trend_diff[-nrow(df_public_data)])\n",
        "\n",
        "# Converter as colunas \"ipca_lag\" e \"selic_lag\" para séries temporais\n",
        "df_public_data$ipca_lag <- ts(df_public_data$ipca_lag, start = c(2005, 12), frequency = 12)\n",
        "df_public_data$selic_deflated_lag <- ts(df_public_data$selic_deflated_lag, start = c(2005, 12), frequency = 12)\n",
        "df_public_data$primary_fiscal_result_pct_pib_lag <- ts(df_public_data$primary_fiscal_result_pct_pib_lag, start = c(2005, 12), frequency = 12)\n",
        "df_public_data$real_exchange_rate_trend_diff_lag <- ts(df_public_data$real_exchange_rate_trend_diff_lag, start = c(2005, 12), frequency = 12)\n",
        "df_public_data$household_income_deflated_trend_diff_lag <- ts(df_public_data$household_income_deflated_trend_diff_lag, start = c(2005, 12), frequency = 12)\n",
        "\n",
        "# Reorganiza as colunas, colocando \"month_date\" e \"month\" nas primeiras posições\n",
        "df_public_data <- df_public_data %>% dplyr::select(year, month_name, month_date, month, everything())"
      ]
    },
    {
      "cell_type": "code",
      "execution_count": 11,
      "metadata": {
        "id": "m7-hRq-CuTrv"
      },
      "outputs": [],
      "source": [
        "# Identificar as variáveis que são Time-Series\n",
        "ts_cols <- sapply(df_public_data, is.ts)\n",
        "\n",
        "# Filtrar o dataframe\n",
        "df_public_data <- df_public_data %>%\n",
        "  filter(month_date >= as.Date(\"2006-01-01\"))\n",
        "\n",
        "# Transformar as colunas identificadas como Time-Series de volta em Time-Series\n",
        "df_public_data[ts_cols] <- lapply(df_public_data[ts_cols], function(x) ts(x, start = c(2006, 1), frequency = 12))"
      ]
    },
    {
      "cell_type": "markdown",
      "metadata": {
        "id": "ghYa01Oq5dSJ"
      },
      "source": [
        "- #### **Visualização da base de dados**"
      ]
    },
    {
      "cell_type": "code",
      "execution_count": 12,
      "metadata": {
        "id": "McZ8wWk7Gdgz",
        "colab": {
          "base_uri": "https://localhost:8080/"
        },
        "outputId": "9ad986ed-0831-434a-bee2-21ff0540fe4f"
      },
      "outputs": [
        {
          "output_type": "stream",
          "name": "stdout",
          "text": [
            "'data.frame':\t210 obs. of  33 variables:\n",
            " $ year                                    : num  2006 2006 2006 2006 2006 ...\n",
            " $ month_name                              : Ord.factor w/ 12 levels \"Jan\"<\"Feb\"<\"Mar\"<..: 1 2 3 4 5 6 7 8 9 10 ...\n",
            " $ month_date                              : Date, format: \"2006-01-01\" \"2006-02-01\" ...\n",
            " $ month                                   : Time-Series  from 2006 to 2023: 2006 2006 2006 2006 2006 ...\n",
            " $ market_inflation_expectation            : Time-Series  from 2006 to 2023: 4.58 4.49 4.36 4.16 4.18 4.25 4.4 4.48 4.29 4.05 ...\n",
            " $ consumer_inflation_expectation          : Time-Series  from 2006 to 2023: 6.9 7 6.9 6.5 6.7 6.3 6.9 6.4 6.3 5.8 ...\n",
            " $ inflation_target                        : Time-Series  from 2006 to 2023: 4.5 4.5 4.5 4.5 4.5 4.5 4.5 4.5 4.5 4.5 ...\n",
            " $ inflation_target_lower_bound            : Time-Series  from 2006 to 2023: 2.5 2.5 2.5 2.5 2.5 2.5 2.5 2.5 2.5 2.5 ...\n",
            " $ inflation_target_upper_bound            : Time-Series  from 2006 to 2023: 6.5 6.5 6.5 6.5 6.5 6.5 6.5 6.5 6.5 6.5 ...\n",
            " $ inflation_target_wtd_avg                : Time-Series  from 2006 to 2023: 4.5 4.5 4.5 4.5 4.5 4.5 4.5 4.5 4.5 4.5 ...\n",
            " $ inflation_target_lower_bound_wtd_avg    : Time-Series  from 2006 to 2023: 2.5 2.5 2.5 2.5 2.5 2.5 2.5 2.5 2.5 2.5 ...\n",
            " $ inflation_target_upper_bound_wtd_avg    : Time-Series  from 2006 to 2023: 6.5 6.5 6.5 6.5 6.5 6.5 6.5 6.5 6.5 6.5 ...\n",
            " $ ipca                                    : Time-Series  from 2006 to 2023: 5.7 5.51 5.32 4.63 4.23 4.03 3.97 3.84 3.7 3.26 ...\n",
            " $ selic                                   : Time-Series  from 2006 to 2023: 17.6 17.3 16.7 16.2 15.7 ...\n",
            " $ selic_deflated                          : Time-Series  from 2006 to 2023: 11.3 11.2 10.8 11 11 ...\n",
            " $ minimum_wage_increase                   : Time-Series  from 2006 to 2023: NA NA NA NA 17.1 ...\n",
            " $ minimum_wage_increase_deflated          : Time-Series  from 2006 to 2023: NA NA NA NA 12.3 ...\n",
            " $ income_increase                         : Time-Series  from 2006 to 2023: NA NA NA NA 9.92 ...\n",
            " $ income_increase_deflated                : Time-Series  from 2006 to 2023: NA NA NA NA 5.46 ...\n",
            " $ household_income_deflated               : Time-Series  from 2006 to 2023: 315684 316643 317794 318674 319848 ...\n",
            " $ household_income_deflated_trend         : Time-Series  from 2006 to 2023: 308018 310239 312461 314683 316906 ...\n",
            " $ household_income_deflated_trend_diff    : Time-Series  from 2006 to 2023: 2.489 2.064 1.707 1.268 0.928 ...\n",
            " $ real_exchange_rate                      : Time-Series  from 2006 to 2023: 100.7 95.4 95.3 95.1 99.3 ...\n",
            " $ real_exchange_rate_trend                : Time-Series  from 2006 to 2023: 98.4 98 97.7 97.3 96.9 ...\n",
            " $ real_exchange_rate_trend_diff           : Time-Series  from 2006 to 2023: 2.31 -2.64 -2.42 -2.2 2.48 ...\n",
            " $ pib                                     : Time-Series  from 2006 to 2023: 2190643 2207671 2225145 2235813 2256419 ...\n",
            " $ primary_fiscal_result                   : Time-Series  from 2006 to 2023: -74923 -74570 -73223 -74003 -74309 ...\n",
            " $ primary_fiscal_result_pct_pib           : Time-Series  from 2006 to 2023: -3.42 -3.38 -3.29 -3.31 -3.29 -3.32 -3.24 -3.35 -3.22 -3.28 ...\n",
            " $ ipca_lag                                : Time-Series  from 2006 to 2023: 5.69 5.7 5.51 5.32 4.63 4.23 4.03 3.97 3.84 3.7 ...\n",
            " $ selic_deflated_lag                      : Time-Series  from 2006 to 2023: 11.9 11.3 11.2 10.8 11 ...\n",
            " $ primary_fiscal_result_pct_pib_lag       : Time-Series  from 2006 to 2023: -3.74 -3.42 -3.38 -3.29 -3.31 -3.29 -3.32 -3.24 -3.35 -3.22 ...\n",
            " $ real_exchange_rate_trend_diff_lag       : Time-Series  from 2006 to 2023: 2.15 2.31 -2.64 -2.42 -2.2 ...\n",
            " $ household_income_deflated_trend_diff_lag: Time-Series  from 2006 to 2023: 2.75 2.49 2.06 1.71 1.27 ...\n"
          ]
        }
      ],
      "source": [
        "str(df_public_data)"
      ]
    },
    {
      "cell_type": "code",
      "execution_count": 13,
      "metadata": {
        "id": "80etpaws0NUk",
        "colab": {
          "base_uri": "https://localhost:8080/",
          "height": 275
        },
        "outputId": "afc1ffec-f3bc-4d46-8ef9-e1b1e38459f1"
      },
      "outputs": [
        {
          "output_type": "display_data",
          "data": {
            "text/html": [
              "<table class=\"dataframe\">\n",
              "<caption>A data.frame: 5 × 33</caption>\n",
              "<thead>\n",
              "\t<tr><th></th><th scope=col>year</th><th scope=col>month_name</th><th scope=col>month_date</th><th scope=col>month</th><th scope=col>market_inflation_expectation</th><th scope=col>consumer_inflation_expectation</th><th scope=col>inflation_target</th><th scope=col>inflation_target_lower_bound</th><th scope=col>inflation_target_upper_bound</th><th scope=col>inflation_target_wtd_avg</th><th scope=col>⋯</th><th scope=col>real_exchange_rate_trend</th><th scope=col>real_exchange_rate_trend_diff</th><th scope=col>pib</th><th scope=col>primary_fiscal_result</th><th scope=col>primary_fiscal_result_pct_pib</th><th scope=col>ipca_lag</th><th scope=col>selic_deflated_lag</th><th scope=col>primary_fiscal_result_pct_pib_lag</th><th scope=col>real_exchange_rate_trend_diff_lag</th><th scope=col>household_income_deflated_trend_diff_lag</th></tr>\n",
              "\t<tr><th></th><th scope=col>&lt;dbl&gt;</th><th scope=col>&lt;ord&gt;</th><th scope=col>&lt;date&gt;</th><th scope=col>&lt;dbl&gt;</th><th scope=col>&lt;dbl&gt;</th><th scope=col>&lt;dbl&gt;</th><th scope=col>&lt;dbl&gt;</th><th scope=col>&lt;dbl&gt;</th><th scope=col>&lt;dbl&gt;</th><th scope=col>&lt;dbl&gt;</th><th scope=col>⋯</th><th scope=col>&lt;dbl&gt;</th><th scope=col>&lt;dbl&gt;</th><th scope=col>&lt;dbl&gt;</th><th scope=col>&lt;dbl&gt;</th><th scope=col>&lt;dbl&gt;</th><th scope=col>&lt;dbl&gt;</th><th scope=col>&lt;dbl&gt;</th><th scope=col>&lt;dbl&gt;</th><th scope=col>&lt;dbl&gt;</th><th scope=col>&lt;dbl&gt;</th></tr>\n",
              "</thead>\n",
              "<tbody>\n",
              "\t<tr><th scope=row>1</th><td>2006</td><td>Jan</td><td>2006-01-01</td><td>2006.000</td><td>4.58</td><td>6.9</td><td>4.5</td><td>2.5</td><td>6.5</td><td>4.5</td><td>⋯</td><td>98.40322</td><td> 2.313721</td><td>2190643</td><td>-74923.44</td><td>-3.42</td><td>5.69</td><td>11.87435</td><td>-3.74</td><td> 2.147822</td><td>2.754730</td></tr>\n",
              "\t<tr><th scope=row>2</th><td>2006</td><td>Feb</td><td>2006-02-01</td><td>2006.083</td><td>4.49</td><td>7.0</td><td>4.5</td><td>2.5</td><td>6.5</td><td>4.5</td><td>⋯</td><td>98.02805</td><td>-2.640109</td><td>2207671</td><td>-74569.50</td><td>-3.38</td><td>5.70</td><td>11.30558</td><td>-3.42</td><td> 2.313721</td><td>2.488664</td></tr>\n",
              "\t<tr><th scope=row>3</th><td>2006</td><td>Mar</td><td>2006-03-01</td><td>2006.167</td><td>4.36</td><td>6.9</td><td>4.5</td><td>2.5</td><td>6.5</td><td>4.5</td><td>⋯</td><td>97.65292</td><td>-2.419715</td><td>2225145</td><td>-73223.35</td><td>-3.29</td><td>5.51</td><td>11.15534</td><td>-3.38</td><td>-2.640109</td><td>2.064065</td></tr>\n",
              "\t<tr><th scope=row>4</th><td>2006</td><td>Apr</td><td>2006-04-01</td><td>2006.250</td><td>4.16</td><td>6.5</td><td>4.5</td><td>2.5</td><td>6.5</td><td>4.5</td><td>⋯</td><td>97.27786</td><td>-2.197685</td><td>2235813</td><td>-74002.58</td><td>-3.31</td><td>5.32</td><td>10.84314</td><td>-3.29</td><td>-2.419715</td><td>1.706890</td></tr>\n",
              "\t<tr><th scope=row>5</th><td>2006</td><td>May</td><td>2006-05-01</td><td>2006.333</td><td>4.18</td><td>6.7</td><td>4.5</td><td>2.5</td><td>6.5</td><td>4.5</td><td>⋯</td><td>96.90286</td><td> 2.484076</td><td>2256419</td><td>-74308.97</td><td>-3.29</td><td>4.63</td><td>11.04846</td><td>-3.31</td><td>-2.197685</td><td>1.268233</td></tr>\n",
              "</tbody>\n",
              "</table>\n"
            ],
            "text/markdown": "\nA data.frame: 5 × 33\n\n| <!--/--> | year &lt;dbl&gt; | month_name &lt;ord&gt; | month_date &lt;date&gt; | month &lt;dbl&gt; | market_inflation_expectation &lt;dbl&gt; | consumer_inflation_expectation &lt;dbl&gt; | inflation_target &lt;dbl&gt; | inflation_target_lower_bound &lt;dbl&gt; | inflation_target_upper_bound &lt;dbl&gt; | inflation_target_wtd_avg &lt;dbl&gt; | ⋯ ⋯ | real_exchange_rate_trend &lt;dbl&gt; | real_exchange_rate_trend_diff &lt;dbl&gt; | pib &lt;dbl&gt; | primary_fiscal_result &lt;dbl&gt; | primary_fiscal_result_pct_pib &lt;dbl&gt; | ipca_lag &lt;dbl&gt; | selic_deflated_lag &lt;dbl&gt; | primary_fiscal_result_pct_pib_lag &lt;dbl&gt; | real_exchange_rate_trend_diff_lag &lt;dbl&gt; | household_income_deflated_trend_diff_lag &lt;dbl&gt; |\n|---|---|---|---|---|---|---|---|---|---|---|---|---|---|---|---|---|---|---|---|---|---|\n| 1 | 2006 | Jan | 2006-01-01 | 2006.000 | 4.58 | 6.9 | 4.5 | 2.5 | 6.5 | 4.5 | ⋯ | 98.40322 |  2.313721 | 2190643 | -74923.44 | -3.42 | 5.69 | 11.87435 | -3.74 |  2.147822 | 2.754730 |\n| 2 | 2006 | Feb | 2006-02-01 | 2006.083 | 4.49 | 7.0 | 4.5 | 2.5 | 6.5 | 4.5 | ⋯ | 98.02805 | -2.640109 | 2207671 | -74569.50 | -3.38 | 5.70 | 11.30558 | -3.42 |  2.313721 | 2.488664 |\n| 3 | 2006 | Mar | 2006-03-01 | 2006.167 | 4.36 | 6.9 | 4.5 | 2.5 | 6.5 | 4.5 | ⋯ | 97.65292 | -2.419715 | 2225145 | -73223.35 | -3.29 | 5.51 | 11.15534 | -3.38 | -2.640109 | 2.064065 |\n| 4 | 2006 | Apr | 2006-04-01 | 2006.250 | 4.16 | 6.5 | 4.5 | 2.5 | 6.5 | 4.5 | ⋯ | 97.27786 | -2.197685 | 2235813 | -74002.58 | -3.31 | 5.32 | 10.84314 | -3.29 | -2.419715 | 1.706890 |\n| 5 | 2006 | May | 2006-05-01 | 2006.333 | 4.18 | 6.7 | 4.5 | 2.5 | 6.5 | 4.5 | ⋯ | 96.90286 |  2.484076 | 2256419 | -74308.97 | -3.29 | 4.63 | 11.04846 | -3.31 | -2.197685 | 1.268233 |\n\n",
            "text/latex": "A data.frame: 5 × 33\n\\begin{tabular}{r|lllllllllllllllllllll}\n  & year & month\\_name & month\\_date & month & market\\_inflation\\_expectation & consumer\\_inflation\\_expectation & inflation\\_target & inflation\\_target\\_lower\\_bound & inflation\\_target\\_upper\\_bound & inflation\\_target\\_wtd\\_avg & ⋯ & real\\_exchange\\_rate\\_trend & real\\_exchange\\_rate\\_trend\\_diff & pib & primary\\_fiscal\\_result & primary\\_fiscal\\_result\\_pct\\_pib & ipca\\_lag & selic\\_deflated\\_lag & primary\\_fiscal\\_result\\_pct\\_pib\\_lag & real\\_exchange\\_rate\\_trend\\_diff\\_lag & household\\_income\\_deflated\\_trend\\_diff\\_lag\\\\\n  & <dbl> & <ord> & <date> & <dbl> & <dbl> & <dbl> & <dbl> & <dbl> & <dbl> & <dbl> & ⋯ & <dbl> & <dbl> & <dbl> & <dbl> & <dbl> & <dbl> & <dbl> & <dbl> & <dbl> & <dbl>\\\\\n\\hline\n\t1 & 2006 & Jan & 2006-01-01 & 2006.000 & 4.58 & 6.9 & 4.5 & 2.5 & 6.5 & 4.5 & ⋯ & 98.40322 &  2.313721 & 2190643 & -74923.44 & -3.42 & 5.69 & 11.87435 & -3.74 &  2.147822 & 2.754730\\\\\n\t2 & 2006 & Feb & 2006-02-01 & 2006.083 & 4.49 & 7.0 & 4.5 & 2.5 & 6.5 & 4.5 & ⋯ & 98.02805 & -2.640109 & 2207671 & -74569.50 & -3.38 & 5.70 & 11.30558 & -3.42 &  2.313721 & 2.488664\\\\\n\t3 & 2006 & Mar & 2006-03-01 & 2006.167 & 4.36 & 6.9 & 4.5 & 2.5 & 6.5 & 4.5 & ⋯ & 97.65292 & -2.419715 & 2225145 & -73223.35 & -3.29 & 5.51 & 11.15534 & -3.38 & -2.640109 & 2.064065\\\\\n\t4 & 2006 & Apr & 2006-04-01 & 2006.250 & 4.16 & 6.5 & 4.5 & 2.5 & 6.5 & 4.5 & ⋯ & 97.27786 & -2.197685 & 2235813 & -74002.58 & -3.31 & 5.32 & 10.84314 & -3.29 & -2.419715 & 1.706890\\\\\n\t5 & 2006 & May & 2006-05-01 & 2006.333 & 4.18 & 6.7 & 4.5 & 2.5 & 6.5 & 4.5 & ⋯ & 96.90286 &  2.484076 & 2256419 & -74308.97 & -3.29 & 4.63 & 11.04846 & -3.31 & -2.197685 & 1.268233\\\\\n\\end{tabular}\n",
            "text/plain": [
              "  year month_name month_date month    market_inflation_expectation\n",
              "1 2006 Jan        2006-01-01 2006.000 4.58                        \n",
              "2 2006 Feb        2006-02-01 2006.083 4.49                        \n",
              "3 2006 Mar        2006-03-01 2006.167 4.36                        \n",
              "4 2006 Apr        2006-04-01 2006.250 4.16                        \n",
              "5 2006 May        2006-05-01 2006.333 4.18                        \n",
              "  consumer_inflation_expectation inflation_target inflation_target_lower_bound\n",
              "1 6.9                            4.5              2.5                         \n",
              "2 7.0                            4.5              2.5                         \n",
              "3 6.9                            4.5              2.5                         \n",
              "4 6.5                            4.5              2.5                         \n",
              "5 6.7                            4.5              2.5                         \n",
              "  inflation_target_upper_bound inflation_target_wtd_avg ⋯\n",
              "1 6.5                          4.5                      ⋯\n",
              "2 6.5                          4.5                      ⋯\n",
              "3 6.5                          4.5                      ⋯\n",
              "4 6.5                          4.5                      ⋯\n",
              "5 6.5                          4.5                      ⋯\n",
              "  real_exchange_rate_trend real_exchange_rate_trend_diff pib    \n",
              "1 98.40322                  2.313721                     2190643\n",
              "2 98.02805                 -2.640109                     2207671\n",
              "3 97.65292                 -2.419715                     2225145\n",
              "4 97.27786                 -2.197685                     2235813\n",
              "5 96.90286                  2.484076                     2256419\n",
              "  primary_fiscal_result primary_fiscal_result_pct_pib ipca_lag\n",
              "1 -74923.44             -3.42                         5.69    \n",
              "2 -74569.50             -3.38                         5.70    \n",
              "3 -73223.35             -3.29                         5.51    \n",
              "4 -74002.58             -3.31                         5.32    \n",
              "5 -74308.97             -3.29                         4.63    \n",
              "  selic_deflated_lag primary_fiscal_result_pct_pib_lag\n",
              "1 11.87435           -3.74                            \n",
              "2 11.30558           -3.42                            \n",
              "3 11.15534           -3.38                            \n",
              "4 10.84314           -3.29                            \n",
              "5 11.04846           -3.31                            \n",
              "  real_exchange_rate_trend_diff_lag household_income_deflated_trend_diff_lag\n",
              "1  2.147822                         2.754730                                \n",
              "2  2.313721                         2.488664                                \n",
              "3 -2.640109                         2.064065                                \n",
              "4 -2.419715                         1.706890                                \n",
              "5 -2.197685                         1.268233                                "
            ]
          },
          "metadata": {}
        }
      ],
      "source": [
        "head(df_public_data, 5)"
      ]
    },
    {
      "cell_type": "markdown",
      "metadata": {
        "id": "BtWrxUCX5iG2"
      },
      "source": [
        "- #### **Salvar em formato `.csv` e `.xlsx`**"
      ]
    },
    {
      "cell_type": "code",
      "execution_count": 14,
      "metadata": {
        "id": "6prspGu35tBC"
      },
      "outputs": [],
      "source": [
        "# Salve o DataFrame como um arquivo CSV localmente\n",
        "write.csv(df_public_data, file = \"public_data.csv\", row.names = FALSE)"
      ]
    },
    {
      "cell_type": "code",
      "execution_count": 15,
      "metadata": {
        "id": "xOSZhRLm1ieu"
      },
      "outputs": [],
      "source": [
        "# Salve o DataFrame como um arquivo XLSX localmente\n",
        "write_xlsx(df_public_data, path = \"/content/public_data.xlsx\")"
      ]
    }
  ],
  "metadata": {
    "colab": {
      "provenance": [],
      "authorship_tag": "ABX9TyM/DB1NpDLJPzVrO+Zg0DVs"
    },
    "kernelspec": {
      "display_name": "R",
      "name": "ir"
    },
    "language_info": {
      "name": "R"
    }
  },
  "nbformat": 4,
  "nbformat_minor": 0
}