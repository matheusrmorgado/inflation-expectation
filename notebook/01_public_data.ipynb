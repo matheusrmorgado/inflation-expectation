{
  "cells": [
    {
      "cell_type": "markdown",
      "metadata": {
        "id": "t-bL7gW32JnO"
      },
      "source": [
        "# **FGV EESP**\n",
        "\n",
        "- ## Dados Econômicos - Brasil\n",
        "---\n",
        "\n"
      ]
    },
    {
      "cell_type": "markdown",
      "metadata": {
        "id": "S60DDHrr2L7c"
      },
      "source": [
        "### **Bibliotecas**"
      ]
    },
    {
      "cell_type": "code",
      "execution_count": null,
      "metadata": {
        "id": "jyv8rwm_2GK_"
      },
      "outputs": [],
      "source": [
        "# Obter os dados do SGS do Banco Central do Brasil\n",
        "install.packages(\"rbcb\")\n",
        "\n",
        "# Salvar dados em formato .xlsx\n",
        "install.packages(\"writexl\")\n",
        "\n",
        "# Implementar filtro HP\n",
        "install.packages(\"mFilter\")"
      ]
    },
    {
      "cell_type": "code",
      "execution_count": null,
      "metadata": {
        "id": "L3QR8sqJ2NU-"
      },
      "outputs": [],
      "source": [
        "library(dplyr)\n",
        "library(httr)\n",
        "library(jsonlite)\n",
        "library(lubridate)\n",
        "library(mFilter)\n",
        "library(readxl)\n",
        "library(rbcb)\n",
        "library(tidyverse)\n",
        "library(writexl)\n",
        "library(zoo)"
      ]
    },
    {
      "cell_type": "markdown",
      "metadata": {
        "id": "QuUqHoAT3Lge"
      },
      "source": [
        "### **Dados**"
      ]
    },
    {
      "cell_type": "markdown",
      "metadata": {
        "id": "HCOKstgE365D"
      },
      "source": [
        "- #### **Expectativa de Inflação do Mercado**\n",
        "\n",
        "  * Referência: [Olinda BCB](https://olinda.bcb.gov.br/olinda/servico/Expectativas/versao/v1/aplicacao#!/recursos/ExpectativasMercadoInflacao12Meses#eyJmb3JtdWxhcmlvIjp7IiRmb3JtYXQiOiJqc29uIiwiJHRvcCI6MTAwLCIkZmlsdGVyIjoiBDkEIGVxIDAgYW5kIAQyBCBlcSAnUycgYW5kIAQwBCBlcSAnSVBDQScgYW5kIAQxBCBnZSAnMjAwNi0wMS0wMScgYW5kIAQxBCBsZSAnMjAyMy0wNi0zMCciLCIkb3JkZXJieSI6IgQxBCBkZXNjIn0sInByb3ByaWVkYWRlcyI6WzAsMSwzLDQsNV0sInBlc3F1aXNhZG8iOnRydWUsImFjdGl2ZVRhYiI6InRhYmxlIiwiZ3JpZFN0YXRlIjp7AzADOlt7A0IDIgQwBCIsA0EDfSx7A0IDIgQxBCIsA0EDfSx7A0IDIgQzBCIsA0EDfSx7A0IDIgQzBG5hIiwDQQN9LHsDQgMiBDUEIiwDQQN9XSwDMQM6e30sAzIDOltdLAMzAzp7fSwDNAM6e30sAzUDOnt9fSwicGl2b3RPcHRpb25zIjp7A2EDOnt9LANiAzpbXSwDYwM6NTAwLANkAzpbIgQxBCJdLANlAzpbXSwDZgM6WyJN6WRpYSJdLANnAzoidmFsdWVfel90b19hIiwDaAM6InZhbHVlX3pfdG9fYSIsA2kDOnt9LANqAzp7fSwDawM6ODUsA2wDOmZhbHNlLANtAzp7fSwDbgM6e30sA28DOiJN6WRpYSIsA3ADOiJMaW5lIENoYXJ0In19)"
      ]
    },
    {
      "cell_type": "code",
      "execution_count": 3,
      "metadata": {
        "id": "zpsiiBD-5rfj",
        "colab": {
          "base_uri": "https://localhost:8080/"
        },
        "outputId": "c43a5d56-e801-4d07-9479-c498dc35d5a8"
      },
      "outputs": [
        {
          "output_type": "stream",
          "name": "stderr",
          "text": [
            "\u001b[1m\u001b[22m`summarise()` has grouped output by 'year', 'month_date'. You can override\n",
            "using the `.groups` argument.\n"
          ]
        }
      ],
      "source": [
        "# Definir a URL da API do BCB para obter dados de Expectativa do Mercado para IPCA nos próximos 12 meses\n",
        "url <- \"https://olinda.bcb.gov.br/olinda/servico/Expectativas/versao/v1/odata/ExpectativasMercadoInflacao12Meses?$filter=baseCalculo%20eq%200%20and%20Suavizada%20eq%20'S'%20and%20Indicador%20eq%20'IPCA'%20and%20Data%20ge%20'2005-12-01'%20and%20Data%20le%20'2023-08-31'&$orderby=Data%20desc&$format=json&$select=Indicador,Data,Media,Mediana,DesvioPadrao\"\n",
        "\n",
        "# Realizar a consulta e ler o arquivo JSON\n",
        "response <- GET(url)\n",
        "data_json <- rawToChar(response$content)\n",
        "\n",
        "# Ajuste das colunas de data\n",
        "focus_inflation_expectation <- fromJSON(data_json)$value %>%\n",
        "  mutate(day = ymd(Data),\n",
        "         month_date = floor_date(day, unit = \"month\"),\n",
        "         year = year(month_date),\n",
        "         day_of_week = weekdays(day),\n",
        "         month_name = month(month_date, label = TRUE, abbr = TRUE))\n",
        "\n",
        "# Filtrar apenas as sextas-feiras (Referência do Boletim Focus)\n",
        "df_fridays_only <- focus_inflation_expectation %>%\n",
        "  filter(day_of_week == \"Friday\")\n",
        "\n",
        "# Calcular média da coluna \"Mediana\" agrupada por \"year\" e \"month_date\"\n",
        "df_olinda <- as.data.frame(df_fridays_only %>%\n",
        "  group_by(year, month_date, month_name) %>%\n",
        "  summarize(market_inflation_expectation = round(mean(Mediana), 2)))\n",
        "\n",
        "# Converter variável em série temporal\n",
        "df_olinda$market_inflation_expectation <- ts(df_olinda$market_inflation_expectation, start = c(2005, 12), frequency = 12)\n",
        "\n",
        "# Adicionar a coluna 'month' com base em 'market_inflation_expectation'\n",
        "df_olinda$month <- time(df_olinda$market_inflation_expectation)"
      ]
    },
    {
      "cell_type": "markdown",
      "metadata": {
        "id": "_c2y1Tp4Fz0p"
      },
      "source": [
        "- #### **Meta de Inflação**\n",
        "\n",
        "  * Referência: [BCB](https://www.bcb.gov.br/controleinflacao/historicometas)"
      ]
    },
    {
      "cell_type": "code",
      "execution_count": 4,
      "metadata": {
        "id": "ikQq_vtcFzG9"
      },
      "outputs": [],
      "source": [
        "# Histórico das metas para a inflação\n",
        "\n",
        "# Caminho do arquivo original\n",
        "file_path <- \"https://github.com/matheusrmorgado/inflation-expectation/raw/main/data/bcb_inflation_target.xlsx\"\n",
        "\n",
        "# Download do arquivo\n",
        "download.file(file_path, \"bcb_inflation_target.xlsx\")\n",
        "\n",
        "# Ler o arquivo Excel e converter em dataframe\n",
        "df_bcb <- as.data.frame(read_excel(\"bcb_inflation_target.xlsx\"))\n",
        "\n",
        "# Filtrar os dados de 2005-12-01 até 2023-08-01\n",
        "df_bcb <- df_bcb %>% filter(as.Date(month_date) >= as.Date(\"2005-12-01\") & as.Date(month_date) <= as.Date(\"2023-08-01\"))\n",
        "\n",
        "# Lista de variáveis\n",
        "variables_to_convert <- c(\"inflation_target\",\"inflation_target_lower_bound\",\"inflation_target_upper_bound\",\"inflation_target_wtd_avg\",\"inflation_target_lower_bound_wtd_avg\",\"inflation_target_upper_bound_wtd_avg\")\n",
        "\n",
        "# Loop para converter as variáveis em séries temporais\n",
        "for (variable in variables_to_convert) {\n",
        "  df_bcb[[variable]] <- ts(df_bcb[[variable]], start = c(2005, 12), frequency = 12)\n",
        "}\n",
        "\n",
        "# Selecionar apenas variáveis relacionadas a inflação\n",
        "df_bcb <- df_bcb[, 3:8]"
      ]
    },
    {
      "cell_type": "markdown",
      "metadata": {
        "id": "Vr-ZxwiQ5FiX"
      },
      "source": [
        "- #### **Expectativa de Inflação dos Consumidores**\n",
        "\n",
        "  * Referência: [FGV IBRE](https://extra-ibre.fgv.br/ibre/sitefgvdados/default.aspx?Convidado=S)"
      ]
    },
    {
      "cell_type": "code",
      "execution_count": 5,
      "metadata": {
        "id": "VsNx34sIeRM6"
      },
      "outputs": [],
      "source": [
        "# Indicador de Expectativa de Inflação dos Consumidores - Código FGV Dados: 1416188\n",
        "# Índice de Confiança do Consumidor com Ajuste Sazonal - Código FGV Dados: 1006982\n",
        "\n",
        "# Caminho do arquivo original\n",
        "file_path <- \"https://github.com/matheusrmorgado/inflation-expectation/raw/main/data/fgv_ibre.xlsx\"\n",
        "\n",
        "# Download do arquivo\n",
        "download.file(file_path, \"fgv_ibre.xlsx\")\n",
        "\n",
        "# Ler o arquivo Excel e converter em dataframe\n",
        "df_fgv <- as.data.frame(read_excel(\"fgv_ibre.xlsx\"))\n",
        "\n",
        "# Filtrar os dados de 2005-12-01 até 2023-08-01\n",
        "df_fgv <- df_fgv %>% filter(as.Date(month_date) >= as.Date(\"2005-12-01\") & as.Date(month_date) <= as.Date(\"2023-08-01\"))\n",
        "\n",
        "# Conversão em formato timeseries\n",
        "df_consumer <- as.data.frame(ts(df_fgv$consumer_inflation_expectation, start = c(2005, 12), frequency = 12))\n",
        "df_consumer <- rename(df_consumer, consumer_inflation_expectation = x)\n",
        "\n",
        "df_confidence <- as.data.frame(ts(df_fgv$consumer_confidence_index, start = c(2005, 12), frequency = 12))\n",
        "df_confidence <- rename(df_confidence, consumer_confidence_index = x)"
      ]
    },
    {
      "cell_type": "markdown",
      "metadata": {
        "id": "ha8OSlDG5LGu"
      },
      "source": [
        "- #### **Dados Macroeconômicos**\n",
        "\n",
        "  * Referência: [SGS BCB](https://www3.bcb.gov.br/sgspub/)"
      ]
    },
    {
      "cell_type": "code",
      "execution_count": 6,
      "metadata": {
        "id": "wJj14GFCd7Fk"
      },
      "outputs": [],
      "source": [
        "# Índice nacional de preços ao consumidor amplo acumulado em 12 meses (%)\n",
        "# SGS: 13522\n",
        "df_ipca <- as.data.frame(get_series(13522, start_date = \"2005-12-01\", end_date = \"2023-08-01\", as = \"ts\")) %>% rename(ipca = x)\n",
        "\n",
        "# Taxa de juros Selic acumulada no mês anualizada base 252 (% a.a.)\n",
        "# SGS: 4189\n",
        "df_selic <- as.data.frame(get_series(4189, start_date = \"2005-12-01\", end_date = \"2023-08-01\", as = \"ts\")) %>% rename(selic = x)\n",
        "\n",
        "# Selic deflacionada pelo IPCA\n",
        "df_selic_deflated <- 100*(((1+df_selic/100)/(1+df_ipca/100))-1) %>% rename(selic_deflated = selic)\n",
        "\n",
        "# PIB acumulado dos últimos 12 meses - valores correntes\n",
        "# SGS: 4382\n",
        "df_pib <- as.data.frame(get_series(4382, start_date = \"2005-12-01\", end_date = \"2023-08-01\", as = \"ts\")) %>% rename(gdp = x)\n",
        "\n",
        "# Divida líquida do governo geral - Saldos em R$ milhões\n",
        "# SGS: 4501\n",
        "df_primary_fiscal_result <- as.data.frame(get_series(4501, start_date = \"2005-12-01\", end_date = \"2023-08-01\", as = \"ts\")) %>% rename(primary_fiscal_result = x)\n",
        "\n",
        "# Dívida líquida do governo geral (% PIB)\n",
        "# SGS: 4536\n",
        "df_primary_fiscal_result_to_gdp <- as.data.frame(get_series(4536, start_date = \"2005-12-01\", end_date = \"2023-08-01\", as = \"ts\")) %>% rename(primary_fiscal_result_to_gdp = x)\n",
        "df_primary_fiscal_result_to_gdp <- df_primary_fiscal_result_to_gdp/100"
      ]
    },
    {
      "cell_type": "code",
      "execution_count": 7,
      "metadata": {
        "id": "LeSCWcwuMLKe"
      },
      "outputs": [],
      "source": [
        "# Índice da taxa de câmbio real efetiva (IPCA) - Jun/1994=100\n",
        "# SGS: 11752\n",
        "df_real_exchange_rate <- as.data.frame(get_series(11752, start_date = \"2004-01-01\", end_date = \"2023-08-01\")) %>%\n",
        "  rename(real_exchange_rate = \"11752\") %>%\n",
        "  filter(date >= as.Date(\"2005-12-01\")) %>%\n",
        "  select(real_exchange_rate)\n",
        "\n",
        "df_real_exchange_rate$real_exchange_rate <- ts(df_real_exchange_rate$real_exchange_rate, start = c(2005, 12), frequency = 12)\n",
        "df_real_exchange_rate$real_exchange_rate_trend <- as.numeric(hpfilter(df_real_exchange_rate$real_exchange_rate)$trend)\n",
        "df_real_exchange_rate$real_exchange_rate_trend <- ts(df_real_exchange_rate$real_exchange_rate_trend, start = c(2005, 12), frequency = 12)\n",
        "df_real_exchange_rate$real_exchange_rate_gap <- 100*((df_real_exchange_rate$real_exchange_rate/df_real_exchange_rate$real_exchange_rate_trend) - 1)"
      ]
    },
    {
      "cell_type": "code",
      "source": [
        "get_series(29029, start_date = \"2005-12-01\", end_date = \"2023-08-01\", as = \"ts\")"
      ],
      "metadata": {
        "colab": {
          "base_uri": "https://localhost:8080/",
          "height": 662
        },
        "id": "Hy-xoH5DNiEz",
        "outputId": "2fec1fc8-daa9-4d7a-91a6-6b49c3d51e9a"
      },
      "execution_count": 8,
      "outputs": [
        {
          "output_type": "display_data",
          "data": {
            "text/html": [
              "<table class=\"dataframe\">\n",
              "<caption>A Time Series: 19 × 12</caption>\n",
              "<thead>\n",
              "\t<tr><th></th><th scope=col>Jan</th><th scope=col>Feb</th><th scope=col>Mar</th><th scope=col>Apr</th><th scope=col>May</th><th scope=col>Jun</th><th scope=col>Jul</th><th scope=col>Aug</th><th scope=col>Sep</th><th scope=col>Oct</th><th scope=col>Nov</th><th scope=col>Dec</th></tr>\n",
              "</thead>\n",
              "<tbody>\n",
              "\t<tr><th scope=row>2005</th><td>       </td><td>       </td><td>       </td><td>       </td><td>       </td><td>       </td><td>       </td><td>       </td><td>       </td><td>       </td><td>       </td><td>1406510</td></tr>\n",
              "\t<tr><th scope=row>2006</th><td>1421774</td><td>1430456</td><td>1440652</td><td>1450923</td><td>1462482</td><td>1472430</td><td>1483248</td><td>1493842</td><td>1510487</td><td>1523420</td><td>1534418</td><td>1546184</td></tr>\n",
              "\t<tr><th scope=row>2007</th><td>1559338</td><td>1574919</td><td>1591444</td><td>1608322</td><td>1623513</td><td>1637285</td><td>1652157</td><td>1670154</td><td>1682795</td><td>1697742</td><td>1712724</td><td>1737958</td></tr>\n",
              "\t<tr><th scope=row>2008</th><td>1749995</td><td>1766003</td><td>1779600</td><td>1795832</td><td>1815755</td><td>1835881</td><td>1860076</td><td>1884809</td><td>1905517</td><td>1925961</td><td>1950421</td><td>1969034</td></tr>\n",
              "\t<tr><th scope=row>2009</th><td>1991336</td><td>2012047</td><td>2036020</td><td>2055032</td><td>2071754</td><td>2090958</td><td>2111415</td><td>2127231</td><td>2145512</td><td>2163293</td><td>2181405</td><td>2202388</td></tr>\n",
              "\t<tr><th scope=row>2010</th><td>2220279</td><td>2242819</td><td>2266547</td><td>2287481</td><td>2309287</td><td>2332385</td><td>2356704</td><td>2385531</td><td>2414181</td><td>2443937</td><td>2468143</td><td>2492302</td></tr>\n",
              "\t<tr><th scope=row>2011</th><td>2519897</td><td>2549115</td><td>2569314</td><td>2601471</td><td>2632271</td><td>2663679</td><td>2696469</td><td>2721611</td><td>2744466</td><td>2767420</td><td>2801569</td><td>2828939</td></tr>\n",
              "\t<tr><th scope=row>2012</th><td>2855710</td><td>2884346</td><td>2911420</td><td>2936532</td><td>2963474</td><td>2985295</td><td>3010701</td><td>3041508</td><td>3071496</td><td>3105523</td><td>3131297</td><td>3161213</td></tr>\n",
              "\t<tr><th scope=row>2013</th><td>3190934</td><td>3214391</td><td>3247067</td><td>3278538</td><td>3312135</td><td>3348856</td><td>3379102</td><td>3409051</td><td>3447589</td><td>3479402</td><td>3513528</td><td>3550416</td></tr>\n",
              "\t<tr><th scope=row>2014</th><td>3585388</td><td>3619182</td><td>3646815</td><td>3676113</td><td>3698893</td><td>3719615</td><td>3749057</td><td>3780161</td><td>3808332</td><td>3840266</td><td>3870597</td><td>3898396</td></tr>\n",
              "\t<tr><th scope=row>2015</th><td>3911855</td><td>3930961</td><td>3955724</td><td>3964936</td><td>3988239</td><td>4010847</td><td>4017320</td><td>4029102</td><td>4034161</td><td>4050058</td><td>4094603</td><td>4148220</td></tr>\n",
              "\t<tr><th scope=row>2016</th><td>4161921</td><td>4196133</td><td>4215244</td><td>4233710</td><td>4253096</td><td>4274521</td><td>4299362</td><td>4323321</td><td>4351715</td><td>4366421</td><td>4382686</td><td>4404397</td></tr>\n",
              "\t<tr><th scope=row>2017</th><td>4429059</td><td>4442573</td><td>4466703</td><td>4499778</td><td>4533602</td><td>4561946</td><td>4584650</td><td>4605880</td><td>4627688</td><td>4651124</td><td>4674790</td><td>4704231</td></tr>\n",
              "\t<tr><th scope=row>2018</th><td>4728772</td><td>4742452</td><td>4759368</td><td>4764147</td><td>4762849</td><td>4782231</td><td>4811324</td><td>4838837</td><td>4865178</td><td>4887966</td><td>4901699</td><td>4918180</td></tr>\n",
              "\t<tr><th scope=row>2019</th><td>4935441</td><td>4951085</td><td>4972512</td><td>4992959</td><td>5016851</td><td>5016031</td><td>5051867</td><td>5064498</td><td>5102709</td><td>5144672</td><td>5170928</td><td>5236490</td></tr>\n",
              "\t<tr><th scope=row>2020</th><td>5273193</td><td>5300041</td><td>5305710</td><td>5352848</td><td>5417595</td><td>5504427</td><td>5559790</td><td>5617806</td><td>5635662</td><td>5641788</td><td>5638109</td><td>5625181</td></tr>\n",
              "\t<tr><th scope=row>2021</th><td>5625788</td><td>5645301</td><td>5680811</td><td>5701038</td><td>5687114</td><td>5700571</td><td>5715100</td><td>5696297</td><td>5690383</td><td>5712296</td><td>5736828</td><td>5766295</td></tr>\n",
              "\t<tr><th scope=row>2022</th><td>5807274</td><td>5858932</td><td>5929989</td><td>5992292</td><td>6095646</td><td>6158290</td><td>6214018</td><td>6313337</td><td>6400340</td><td>6477258</td><td>6579718</td><td>6671433</td></tr>\n",
              "\t<tr><th scope=row>2023</th><td>6747781</td><td>6819037</td><td>6884554</td><td>6921582</td><td>6955087</td><td>7023015</td><td>7107955</td><td>7143490</td><td>       </td><td>       </td><td>       </td><td>       </td></tr>\n",
              "</tbody>\n",
              "</table>\n"
            ],
            "text/markdown": "\nA Time Series: 19 × 12\n\n| <!--/--> | Jan | Feb | Mar | Apr | May | Jun | Jul | Aug | Sep | Oct | Nov | Dec |\n|---|---|---|---|---|---|---|---|---|---|---|---|---|\n| 2005 | <!----> | <!----> | <!----> | <!----> | <!----> | <!----> | <!----> | <!----> | <!----> | <!----> | <!----> | 1406510 |\n| 2006 | 1421774 | 1430456 | 1440652 | 1450923 | 1462482 | 1472430 | 1483248 | 1493842 | 1510487 | 1523420 | 1534418 | 1546184 |\n| 2007 | 1559338 | 1574919 | 1591444 | 1608322 | 1623513 | 1637285 | 1652157 | 1670154 | 1682795 | 1697742 | 1712724 | 1737958 |\n| 2008 | 1749995 | 1766003 | 1779600 | 1795832 | 1815755 | 1835881 | 1860076 | 1884809 | 1905517 | 1925961 | 1950421 | 1969034 |\n| 2009 | 1991336 | 2012047 | 2036020 | 2055032 | 2071754 | 2090958 | 2111415 | 2127231 | 2145512 | 2163293 | 2181405 | 2202388 |\n| 2010 | 2220279 | 2242819 | 2266547 | 2287481 | 2309287 | 2332385 | 2356704 | 2385531 | 2414181 | 2443937 | 2468143 | 2492302 |\n| 2011 | 2519897 | 2549115 | 2569314 | 2601471 | 2632271 | 2663679 | 2696469 | 2721611 | 2744466 | 2767420 | 2801569 | 2828939 |\n| 2012 | 2855710 | 2884346 | 2911420 | 2936532 | 2963474 | 2985295 | 3010701 | 3041508 | 3071496 | 3105523 | 3131297 | 3161213 |\n| 2013 | 3190934 | 3214391 | 3247067 | 3278538 | 3312135 | 3348856 | 3379102 | 3409051 | 3447589 | 3479402 | 3513528 | 3550416 |\n| 2014 | 3585388 | 3619182 | 3646815 | 3676113 | 3698893 | 3719615 | 3749057 | 3780161 | 3808332 | 3840266 | 3870597 | 3898396 |\n| 2015 | 3911855 | 3930961 | 3955724 | 3964936 | 3988239 | 4010847 | 4017320 | 4029102 | 4034161 | 4050058 | 4094603 | 4148220 |\n| 2016 | 4161921 | 4196133 | 4215244 | 4233710 | 4253096 | 4274521 | 4299362 | 4323321 | 4351715 | 4366421 | 4382686 | 4404397 |\n| 2017 | 4429059 | 4442573 | 4466703 | 4499778 | 4533602 | 4561946 | 4584650 | 4605880 | 4627688 | 4651124 | 4674790 | 4704231 |\n| 2018 | 4728772 | 4742452 | 4759368 | 4764147 | 4762849 | 4782231 | 4811324 | 4838837 | 4865178 | 4887966 | 4901699 | 4918180 |\n| 2019 | 4935441 | 4951085 | 4972512 | 4992959 | 5016851 | 5016031 | 5051867 | 5064498 | 5102709 | 5144672 | 5170928 | 5236490 |\n| 2020 | 5273193 | 5300041 | 5305710 | 5352848 | 5417595 | 5504427 | 5559790 | 5617806 | 5635662 | 5641788 | 5638109 | 5625181 |\n| 2021 | 5625788 | 5645301 | 5680811 | 5701038 | 5687114 | 5700571 | 5715100 | 5696297 | 5690383 | 5712296 | 5736828 | 5766295 |\n| 2022 | 5807274 | 5858932 | 5929989 | 5992292 | 6095646 | 6158290 | 6214018 | 6313337 | 6400340 | 6477258 | 6579718 | 6671433 |\n| 2023 | 6747781 | 6819037 | 6884554 | 6921582 | 6955087 | 7023015 | 7107955 | 7143490 | <!----> | <!----> | <!----> | <!----> |\n\n",
            "text/latex": "A Time Series: 19 × 12\n\\begin{tabular}{r|llllllllllll}\n  & Jan & Feb & Mar & Apr & May & Jun & Jul & Aug & Sep & Oct & Nov & Dec\\\\\n\\hline\n\t2005 &         &         &         &         &         &         &         &         &         &         &         & 1406510\\\\\n\t2006 & 1421774 & 1430456 & 1440652 & 1450923 & 1462482 & 1472430 & 1483248 & 1493842 & 1510487 & 1523420 & 1534418 & 1546184\\\\\n\t2007 & 1559338 & 1574919 & 1591444 & 1608322 & 1623513 & 1637285 & 1652157 & 1670154 & 1682795 & 1697742 & 1712724 & 1737958\\\\\n\t2008 & 1749995 & 1766003 & 1779600 & 1795832 & 1815755 & 1835881 & 1860076 & 1884809 & 1905517 & 1925961 & 1950421 & 1969034\\\\\n\t2009 & 1991336 & 2012047 & 2036020 & 2055032 & 2071754 & 2090958 & 2111415 & 2127231 & 2145512 & 2163293 & 2181405 & 2202388\\\\\n\t2010 & 2220279 & 2242819 & 2266547 & 2287481 & 2309287 & 2332385 & 2356704 & 2385531 & 2414181 & 2443937 & 2468143 & 2492302\\\\\n\t2011 & 2519897 & 2549115 & 2569314 & 2601471 & 2632271 & 2663679 & 2696469 & 2721611 & 2744466 & 2767420 & 2801569 & 2828939\\\\\n\t2012 & 2855710 & 2884346 & 2911420 & 2936532 & 2963474 & 2985295 & 3010701 & 3041508 & 3071496 & 3105523 & 3131297 & 3161213\\\\\n\t2013 & 3190934 & 3214391 & 3247067 & 3278538 & 3312135 & 3348856 & 3379102 & 3409051 & 3447589 & 3479402 & 3513528 & 3550416\\\\\n\t2014 & 3585388 & 3619182 & 3646815 & 3676113 & 3698893 & 3719615 & 3749057 & 3780161 & 3808332 & 3840266 & 3870597 & 3898396\\\\\n\t2015 & 3911855 & 3930961 & 3955724 & 3964936 & 3988239 & 4010847 & 4017320 & 4029102 & 4034161 & 4050058 & 4094603 & 4148220\\\\\n\t2016 & 4161921 & 4196133 & 4215244 & 4233710 & 4253096 & 4274521 & 4299362 & 4323321 & 4351715 & 4366421 & 4382686 & 4404397\\\\\n\t2017 & 4429059 & 4442573 & 4466703 & 4499778 & 4533602 & 4561946 & 4584650 & 4605880 & 4627688 & 4651124 & 4674790 & 4704231\\\\\n\t2018 & 4728772 & 4742452 & 4759368 & 4764147 & 4762849 & 4782231 & 4811324 & 4838837 & 4865178 & 4887966 & 4901699 & 4918180\\\\\n\t2019 & 4935441 & 4951085 & 4972512 & 4992959 & 5016851 & 5016031 & 5051867 & 5064498 & 5102709 & 5144672 & 5170928 & 5236490\\\\\n\t2020 & 5273193 & 5300041 & 5305710 & 5352848 & 5417595 & 5504427 & 5559790 & 5617806 & 5635662 & 5641788 & 5638109 & 5625181\\\\\n\t2021 & 5625788 & 5645301 & 5680811 & 5701038 & 5687114 & 5700571 & 5715100 & 5696297 & 5690383 & 5712296 & 5736828 & 5766295\\\\\n\t2022 & 5807274 & 5858932 & 5929989 & 5992292 & 6095646 & 6158290 & 6214018 & 6313337 & 6400340 & 6477258 & 6579718 & 6671433\\\\\n\t2023 & 6747781 & 6819037 & 6884554 & 6921582 & 6955087 & 7023015 & 7107955 & 7143490 &         &         &         &        \\\\\n\\end{tabular}\n",
            "text/plain": [
              "     Jan     Feb     Mar     Apr     May     Jun     Jul     Aug     Sep    \n",
              "2005                                                                        \n",
              "2006 1421774 1430456 1440652 1450923 1462482 1472430 1483248 1493842 1510487\n",
              "2007 1559338 1574919 1591444 1608322 1623513 1637285 1652157 1670154 1682795\n",
              "2008 1749995 1766003 1779600 1795832 1815755 1835881 1860076 1884809 1905517\n",
              "2009 1991336 2012047 2036020 2055032 2071754 2090958 2111415 2127231 2145512\n",
              "2010 2220279 2242819 2266547 2287481 2309287 2332385 2356704 2385531 2414181\n",
              "2011 2519897 2549115 2569314 2601471 2632271 2663679 2696469 2721611 2744466\n",
              "2012 2855710 2884346 2911420 2936532 2963474 2985295 3010701 3041508 3071496\n",
              "2013 3190934 3214391 3247067 3278538 3312135 3348856 3379102 3409051 3447589\n",
              "2014 3585388 3619182 3646815 3676113 3698893 3719615 3749057 3780161 3808332\n",
              "2015 3911855 3930961 3955724 3964936 3988239 4010847 4017320 4029102 4034161\n",
              "2016 4161921 4196133 4215244 4233710 4253096 4274521 4299362 4323321 4351715\n",
              "2017 4429059 4442573 4466703 4499778 4533602 4561946 4584650 4605880 4627688\n",
              "2018 4728772 4742452 4759368 4764147 4762849 4782231 4811324 4838837 4865178\n",
              "2019 4935441 4951085 4972512 4992959 5016851 5016031 5051867 5064498 5102709\n",
              "2020 5273193 5300041 5305710 5352848 5417595 5504427 5559790 5617806 5635662\n",
              "2021 5625788 5645301 5680811 5701038 5687114 5700571 5715100 5696297 5690383\n",
              "2022 5807274 5858932 5929989 5992292 6095646 6158290 6214018 6313337 6400340\n",
              "2023 6747781 6819037 6884554 6921582 6955087 7023015 7107955 7143490        \n",
              "     Oct     Nov     Dec    \n",
              "2005                 1406510\n",
              "2006 1523420 1534418 1546184\n",
              "2007 1697742 1712724 1737958\n",
              "2008 1925961 1950421 1969034\n",
              "2009 2163293 2181405 2202388\n",
              "2010 2443937 2468143 2492302\n",
              "2011 2767420 2801569 2828939\n",
              "2012 3105523 3131297 3161213\n",
              "2013 3479402 3513528 3550416\n",
              "2014 3840266 3870597 3898396\n",
              "2015 4050058 4094603 4148220\n",
              "2016 4366421 4382686 4404397\n",
              "2017 4651124 4674790 4704231\n",
              "2018 4887966 4901699 4918180\n",
              "2019 5144672 5170928 5236490\n",
              "2020 5641788 5638109 5625181\n",
              "2021 5712296 5736828 5766295\n",
              "2022 6477258 6579718 6671433\n",
              "2023                        "
            ]
          },
          "metadata": {}
        }
      ]
    },
    {
      "cell_type": "code",
      "execution_count": 9,
      "metadata": {
        "id": "YOMGLenBJ0a1",
        "colab": {
          "base_uri": "https://localhost:8080/"
        },
        "outputId": "9e2ac6e4-50dc-46ec-8427-b5e755fc0577"
      },
      "outputs": [
        {
          "output_type": "stream",
          "name": "stderr",
          "text": [
            "Skipping download - using cached version\n",
            "\n",
            "Skipping download - using cached version\n",
            "\n"
          ]
        }
      ],
      "source": [
        "# Fator Deflacionário: Renda Nacional Disponível Bruta das Famílias, em valores constantes, deflacionada pelo IPCA (média móvel trimestral)\t/ Renda Nacional Disponível Bruta das Famílias - em valores correntes (média móvel trimestral)\n",
        "# SGS: 29025 / 29023\n",
        "df_deflation_factor <- get_series(29025, start_date = \"2005-12-01\", end_date = \"2023-08-01\", as = \"ts\")/\n",
        "  get_series(29023, start_date = \"2005-12-01\", end_date = \"2023-08-01\", as = \"ts\")\n",
        "\n",
        "# Renda Nacional Disponível Bruta das Famílias - em valores correntes, acumulada em doze meses\n",
        "# SGS: 29029\n",
        "df_rndbf_deflated <- as.data.frame(get_series(29029, start_date = \"2005-12-01\", end_date = \"2023-08-01\", as = \"ts\") * df_deflation_factor) %>% rename(real_household_income = x)\n",
        "\n",
        "df_rndbf_deflated$real_household_income <- ts(df_rndbf_deflated$real_household_income, start = c(2005, 12), frequency = 12)\n",
        "df_rndbf_deflated$real_household_income_trend <- as.numeric(hpfilter(df_rndbf_deflated$real_household_income)$trend)\n",
        "df_rndbf_deflated$real_household_income_trend <- ts(df_rndbf_deflated$real_household_income_trend, start = c(2005, 12), frequency = 12)\n",
        "df_rndbf_deflated$real_household_income_gap <- 100*((df_rndbf_deflated$real_household_income/df_rndbf_deflated$real_household_income_trend) - 1)"
      ]
    },
    {
      "cell_type": "markdown",
      "metadata": {
        "id": "eqlXfw5b5Xvn"
      },
      "source": [
        "- #### **União de todas as bases de dados**"
      ]
    },
    {
      "cell_type": "code",
      "execution_count": 10,
      "metadata": {
        "id": "eLXnJKCTARR-"
      },
      "outputs": [],
      "source": [
        "# Realiza a unificação de todas as tabelas do BCB e FGV IBRE\n",
        "df_public_data <- cbind(df_olinda, df_consumer, df_confidence, df_bcb, df_ipca, df_selic, df_selic_deflated, df_rndbf_deflated, df_real_exchange_rate, df_pib, df_primary_fiscal_result, df_primary_fiscal_result_to_gdp)\n",
        "\n",
        "# Calcula o lag para IPCA e Selic\n",
        "df_public_data$ipca_lag <- c(NA, df_public_data$ipca[-nrow(df_public_data)])\n",
        "df_public_data$selic_deflated_lag <- c(NA, df_public_data$selic_deflated[-nrow(df_public_data)])\n",
        "df_public_data$primary_fiscal_result_to_gdp_lag <- c(NA, df_public_data$primary_fiscal_result_to_gdp[-nrow(df_public_data)])\n",
        "df_public_data$real_exchange_rate_gap_lag <- c(NA, df_public_data$real_exchange_rate_gap[-nrow(df_public_data)])\n",
        "df_public_data$real_household_income_gap_lag <- c(NA, df_public_data$real_household_income_gap[-nrow(df_public_data)])\n",
        "df_public_data$consumer_confidence_index_lag <- c(NA, df_public_data$consumer_confidence_index[-nrow(df_public_data)])\n",
        "\n",
        "# Converter as colunas \"ipca_lag\" e \"selic_lag\" para séries temporais\n",
        "df_public_data$ipca_lag <- ts(df_public_data$ipca_lag, start = c(2005, 12), frequency = 12)\n",
        "df_public_data$selic_deflated_lag <- ts(df_public_data$selic_deflated_lag, start = c(2005, 12), frequency = 12)\n",
        "df_public_data$primary_fiscal_result_to_gdp_lag <- ts(df_public_data$primary_fiscal_result_to_gdp_lag, start = c(2005, 12), frequency = 12)\n",
        "df_public_data$real_exchange_rate_gap_lag <- ts(df_public_data$real_exchange_rate_gap_lag, start = c(2005, 12), frequency = 12)\n",
        "df_public_data$real_household_income_gap_lag <- ts(df_public_data$real_household_income_gap_lag, start = c(2005, 12), frequency = 12)\n",
        "df_public_data$consumer_confidence_index_lag <- ts(df_public_data$consumer_confidence_index_lag, start = c(2005, 12), frequency = 12)\n",
        "\n",
        "# Reorganiza as colunas, colocando \"month_date\" e \"month\" nas primeiras posições\n",
        "df_public_data <- df_public_data %>% dplyr::select(year, month_name, month_date, month, everything())"
      ]
    },
    {
      "cell_type": "code",
      "execution_count": 11,
      "metadata": {
        "id": "m7-hRq-CuTrv"
      },
      "outputs": [],
      "source": [
        "# Identificar as variáveis que são Time-Series\n",
        "ts_cols <- sapply(df_public_data, is.ts)\n",
        "\n",
        "# Filtrar o dataframe\n",
        "df_public_data <- df_public_data %>%\n",
        "  filter(month_date >= as.Date(\"2006-01-01\"))\n",
        "\n",
        "# Transformar as colunas identificadas como Time-Series de volta em Time-Series\n",
        "df_public_data[ts_cols] <- lapply(df_public_data[ts_cols], function(x) ts(x, start = c(2006, 1), frequency = 12))"
      ]
    },
    {
      "cell_type": "markdown",
      "metadata": {
        "id": "ghYa01Oq5dSJ"
      },
      "source": [
        "- #### **Visualização da base de dados**"
      ]
    },
    {
      "cell_type": "code",
      "execution_count": 12,
      "metadata": {
        "colab": {
          "base_uri": "https://localhost:8080/"
        },
        "id": "McZ8wWk7Gdgz",
        "outputId": "357c0513-90fe-42c2-e37d-e39f1b537c9f"
      },
      "outputs": [
        {
          "output_type": "stream",
          "name": "stdout",
          "text": [
            "'data.frame':\t212 obs. of  31 variables:\n",
            " $ year                                : num  2006 2006 2006 2006 2006 ...\n",
            " $ month_name                          : Ord.factor w/ 12 levels \"Jan\"<\"Feb\"<\"Mar\"<..: 1 2 3 4 5 6 7 8 9 10 ...\n",
            " $ month_date                          : Date, format: \"2006-01-01\" \"2006-02-01\" ...\n",
            " $ month                               : Time-Series  from 2006 to 2024: 2006 2006 2006 2006 2006 ...\n",
            " $ market_inflation_expectation        : Time-Series  from 2006 to 2024: 4.58 4.49 4.36 4.16 4.18 4.25 4.4 4.48 4.29 4.05 ...\n",
            " $ consumer_inflation_expectation      : Time-Series  from 2006 to 2024: 6.9 7 6.9 6.5 6.7 6.3 6.9 6.4 6.3 5.8 ...\n",
            " $ consumer_confidence_index           : Time-Series  from 2006 to 2024: 93.3 92.8 93 91.8 90.7 90.7 91.2 91.8 91.5 94.3 ...\n",
            " $ inflation_target                    : Time-Series  from 2006 to 2024: 4.5 4.5 4.5 4.5 4.5 4.5 4.5 4.5 4.5 4.5 ...\n",
            " $ inflation_target_lower_bound        : Time-Series  from 2006 to 2024: 2.5 2.5 2.5 2.5 2.5 2.5 2.5 2.5 2.5 2.5 ...\n",
            " $ inflation_target_upper_bound        : Time-Series  from 2006 to 2024: 6.5 6.5 6.5 6.5 6.5 6.5 6.5 6.5 6.5 6.5 ...\n",
            " $ inflation_target_wtd_avg            : Time-Series  from 2006 to 2024: 4.5 4.5 4.5 4.5 4.5 4.5 4.5 4.5 4.5 4.5 ...\n",
            " $ inflation_target_lower_bound_wtd_avg: Time-Series  from 2006 to 2024: 2.5 2.5 2.5 2.5 2.5 2.5 2.5 2.5 2.5 2.5 ...\n",
            " $ inflation_target_upper_bound_wtd_avg: Time-Series  from 2006 to 2024: 6.5 6.5 6.5 6.5 6.5 6.5 6.5 6.5 6.5 6.5 ...\n",
            " $ ipca                                : Time-Series  from 2006 to 2024: 5.7 5.51 5.32 4.63 4.23 4.03 3.97 3.84 3.7 3.26 ...\n",
            " $ selic                               : Time-Series  from 2006 to 2024: 17.6 17.3 16.7 16.2 15.7 ...\n",
            " $ selic_deflated                      : Time-Series  from 2006 to 2024: 11.3 11.2 10.8 11 11 ...\n",
            " $ real_household_income               : Time-Series  from 2006 to 2024: 3737681 3743545 3752328 3765904 3786603 ...\n",
            " $ real_household_income_trend         : Time-Series  from 2006 to 2024: 3668878 3694953 3721030 3747109 3773194 ...\n",
            " $ real_household_income_gap           : Time-Series  from 2006 to 2024: 1.875 1.315 0.841 0.502 0.355 ...\n",
            " $ real_exchange_rate                  : Time-Series  from 2006 to 2024: 100.7 95.4 95.3 95.1 99.3 ...\n",
            " $ real_exchange_rate_trend            : Time-Series  from 2006 to 2024: 98.4 98 97.7 97.3 96.9 ...\n",
            " $ real_exchange_rate_gap              : Time-Series  from 2006 to 2024: 2.31 -2.64 -2.42 -2.2 2.48 ...\n",
            " $ gdp                                 : Time-Series  from 2006 to 2024: 2190643 2207671 2225145 2235813 2256419 ...\n",
            " $ primary_fiscal_result               : Time-Series  from 2006 to 2024: 1022618 1023884 1032060 1019291 1042621 ...\n",
            " $ primary_fiscal_result_to_gdp        : Time-Series  from 2006 to 2024: 0.467 0.464 0.464 0.456 0.462 ...\n",
            " $ ipca_lag                            : Time-Series  from 2006 to 2024: 5.69 5.7 5.51 5.32 4.63 4.23 4.03 3.97 3.84 3.7 ...\n",
            " $ selic_deflated_lag                  : Time-Series  from 2006 to 2024: 11.9 11.3 11.2 10.8 11 ...\n",
            " $ primary_fiscal_result_to_gdp_lag    : Time-Series  from 2006 to 2024: 0.465 0.467 0.464 0.464 0.456 ...\n",
            " $ real_exchange_rate_gap_lag          : Time-Series  from 2006 to 2024: 2.15 2.31 -2.64 -2.42 -2.2 ...\n",
            " $ real_household_income_gap_lag       : Time-Series  from 2006 to 2024: 2.01 1.875 1.315 0.841 0.502 ...\n",
            " $ consumer_confidence_index_lag       : Time-Series  from 2006 to 2024: 88.7 93.3 92.8 93 91.8 90.7 90.7 91.2 91.8 91.5 ...\n"
          ]
        }
      ],
      "source": [
        "str(df_public_data)"
      ]
    },
    {
      "cell_type": "code",
      "execution_count": 13,
      "metadata": {
        "colab": {
          "base_uri": "https://localhost:8080/",
          "height": 274
        },
        "id": "80etpaws0NUk",
        "outputId": "f43b9b2a-10dc-4886-ac77-6bc3539f83ab"
      },
      "outputs": [
        {
          "output_type": "display_data",
          "data": {
            "text/html": [
              "<table class=\"dataframe\">\n",
              "<caption>A data.frame: 5 × 31</caption>\n",
              "<thead>\n",
              "\t<tr><th></th><th scope=col>year</th><th scope=col>month_name</th><th scope=col>month_date</th><th scope=col>month</th><th scope=col>market_inflation_expectation</th><th scope=col>consumer_inflation_expectation</th><th scope=col>consumer_confidence_index</th><th scope=col>inflation_target</th><th scope=col>inflation_target_lower_bound</th><th scope=col>inflation_target_upper_bound</th><th scope=col>⋯</th><th scope=col>real_exchange_rate_gap</th><th scope=col>gdp</th><th scope=col>primary_fiscal_result</th><th scope=col>primary_fiscal_result_to_gdp</th><th scope=col>ipca_lag</th><th scope=col>selic_deflated_lag</th><th scope=col>primary_fiscal_result_to_gdp_lag</th><th scope=col>real_exchange_rate_gap_lag</th><th scope=col>real_household_income_gap_lag</th><th scope=col>consumer_confidence_index_lag</th></tr>\n",
              "\t<tr><th></th><th scope=col>&lt;dbl&gt;</th><th scope=col>&lt;ord&gt;</th><th scope=col>&lt;date&gt;</th><th scope=col>&lt;dbl&gt;</th><th scope=col>&lt;dbl&gt;</th><th scope=col>&lt;dbl&gt;</th><th scope=col>&lt;dbl&gt;</th><th scope=col>&lt;dbl&gt;</th><th scope=col>&lt;dbl&gt;</th><th scope=col>&lt;dbl&gt;</th><th scope=col>⋯</th><th scope=col>&lt;dbl&gt;</th><th scope=col>&lt;dbl&gt;</th><th scope=col>&lt;dbl&gt;</th><th scope=col>&lt;dbl&gt;</th><th scope=col>&lt;dbl&gt;</th><th scope=col>&lt;dbl&gt;</th><th scope=col>&lt;dbl&gt;</th><th scope=col>&lt;dbl&gt;</th><th scope=col>&lt;dbl&gt;</th><th scope=col>&lt;dbl&gt;</th></tr>\n",
              "</thead>\n",
              "<tbody>\n",
              "\t<tr><th scope=row>1</th><td>2006</td><td>Jan</td><td>2006-01-01</td><td>2006.000</td><td>4.58</td><td>6.9</td><td>93.3</td><td>4.5</td><td>2.5</td><td>6.5</td><td>⋯</td><td> 2.311963</td><td>2190643</td><td>1022618</td><td>0.4668</td><td>5.69</td><td>11.87435</td><td>0.4654</td><td> 2.145933</td><td>2.0099366</td><td>88.7</td></tr>\n",
              "\t<tr><th scope=row>2</th><td>2006</td><td>Feb</td><td>2006-02-01</td><td>2006.083</td><td>4.49</td><td>7.0</td><td>92.8</td><td>4.5</td><td>2.5</td><td>6.5</td><td>⋯</td><td>-2.641655</td><td>2207671</td><td>1023884</td><td>0.4638</td><td>5.70</td><td>11.30558</td><td>0.4668</td><td> 2.311963</td><td>1.8753112</td><td>93.3</td></tr>\n",
              "\t<tr><th scope=row>3</th><td>2006</td><td>Mar</td><td>2006-03-01</td><td>2006.167</td><td>4.36</td><td>6.9</td><td>93.0</td><td>4.5</td><td>2.5</td><td>6.5</td><td>⋯</td><td>-2.421135</td><td>2225145</td><td>1032060</td><td>0.4638</td><td>5.51</td><td>11.15534</td><td>0.4638</td><td>-2.641655</td><td>1.3150849</td><td>92.8</td></tr>\n",
              "\t<tr><th scope=row>4</th><td>2006</td><td>Apr</td><td>2006-04-01</td><td>2006.250</td><td>4.16</td><td>6.5</td><td>91.8</td><td>4.5</td><td>2.5</td><td>6.5</td><td>⋯</td><td>-2.198977</td><td>2235813</td><td>1019291</td><td>0.4559</td><td>5.32</td><td>10.84314</td><td>0.4638</td><td>-2.421135</td><td>0.8411086</td><td>93.0</td></tr>\n",
              "\t<tr><th scope=row>5</th><td>2006</td><td>May</td><td>2006-05-01</td><td>2006.333</td><td>4.18</td><td>6.7</td><td>90.7</td><td>4.5</td><td>2.5</td><td>6.5</td><td>⋯</td><td> 2.482859</td><td>2256419</td><td>1042621</td><td>0.4621</td><td>4.63</td><td>11.04846</td><td>0.4559</td><td>-2.198977</td><td>0.5015829</td><td>91.8</td></tr>\n",
              "</tbody>\n",
              "</table>\n"
            ],
            "text/markdown": "\nA data.frame: 5 × 31\n\n| <!--/--> | year &lt;dbl&gt; | month_name &lt;ord&gt; | month_date &lt;date&gt; | month &lt;dbl&gt; | market_inflation_expectation &lt;dbl&gt; | consumer_inflation_expectation &lt;dbl&gt; | consumer_confidence_index &lt;dbl&gt; | inflation_target &lt;dbl&gt; | inflation_target_lower_bound &lt;dbl&gt; | inflation_target_upper_bound &lt;dbl&gt; | ⋯ ⋯ | real_exchange_rate_gap &lt;dbl&gt; | gdp &lt;dbl&gt; | primary_fiscal_result &lt;dbl&gt; | primary_fiscal_result_to_gdp &lt;dbl&gt; | ipca_lag &lt;dbl&gt; | selic_deflated_lag &lt;dbl&gt; | primary_fiscal_result_to_gdp_lag &lt;dbl&gt; | real_exchange_rate_gap_lag &lt;dbl&gt; | real_household_income_gap_lag &lt;dbl&gt; | consumer_confidence_index_lag &lt;dbl&gt; |\n|---|---|---|---|---|---|---|---|---|---|---|---|---|---|---|---|---|---|---|---|---|---|\n| 1 | 2006 | Jan | 2006-01-01 | 2006.000 | 4.58 | 6.9 | 93.3 | 4.5 | 2.5 | 6.5 | ⋯ |  2.311963 | 2190643 | 1022618 | 0.4668 | 5.69 | 11.87435 | 0.4654 |  2.145933 | 2.0099366 | 88.7 |\n| 2 | 2006 | Feb | 2006-02-01 | 2006.083 | 4.49 | 7.0 | 92.8 | 4.5 | 2.5 | 6.5 | ⋯ | -2.641655 | 2207671 | 1023884 | 0.4638 | 5.70 | 11.30558 | 0.4668 |  2.311963 | 1.8753112 | 93.3 |\n| 3 | 2006 | Mar | 2006-03-01 | 2006.167 | 4.36 | 6.9 | 93.0 | 4.5 | 2.5 | 6.5 | ⋯ | -2.421135 | 2225145 | 1032060 | 0.4638 | 5.51 | 11.15534 | 0.4638 | -2.641655 | 1.3150849 | 92.8 |\n| 4 | 2006 | Apr | 2006-04-01 | 2006.250 | 4.16 | 6.5 | 91.8 | 4.5 | 2.5 | 6.5 | ⋯ | -2.198977 | 2235813 | 1019291 | 0.4559 | 5.32 | 10.84314 | 0.4638 | -2.421135 | 0.8411086 | 93.0 |\n| 5 | 2006 | May | 2006-05-01 | 2006.333 | 4.18 | 6.7 | 90.7 | 4.5 | 2.5 | 6.5 | ⋯ |  2.482859 | 2256419 | 1042621 | 0.4621 | 4.63 | 11.04846 | 0.4559 | -2.198977 | 0.5015829 | 91.8 |\n\n",
            "text/latex": "A data.frame: 5 × 31\n\\begin{tabular}{r|lllllllllllllllllllll}\n  & year & month\\_name & month\\_date & month & market\\_inflation\\_expectation & consumer\\_inflation\\_expectation & consumer\\_confidence\\_index & inflation\\_target & inflation\\_target\\_lower\\_bound & inflation\\_target\\_upper\\_bound & ⋯ & real\\_exchange\\_rate\\_gap & gdp & primary\\_fiscal\\_result & primary\\_fiscal\\_result\\_to\\_gdp & ipca\\_lag & selic\\_deflated\\_lag & primary\\_fiscal\\_result\\_to\\_gdp\\_lag & real\\_exchange\\_rate\\_gap\\_lag & real\\_household\\_income\\_gap\\_lag & consumer\\_confidence\\_index\\_lag\\\\\n  & <dbl> & <ord> & <date> & <dbl> & <dbl> & <dbl> & <dbl> & <dbl> & <dbl> & <dbl> & ⋯ & <dbl> & <dbl> & <dbl> & <dbl> & <dbl> & <dbl> & <dbl> & <dbl> & <dbl> & <dbl>\\\\\n\\hline\n\t1 & 2006 & Jan & 2006-01-01 & 2006.000 & 4.58 & 6.9 & 93.3 & 4.5 & 2.5 & 6.5 & ⋯ &  2.311963 & 2190643 & 1022618 & 0.4668 & 5.69 & 11.87435 & 0.4654 &  2.145933 & 2.0099366 & 88.7\\\\\n\t2 & 2006 & Feb & 2006-02-01 & 2006.083 & 4.49 & 7.0 & 92.8 & 4.5 & 2.5 & 6.5 & ⋯ & -2.641655 & 2207671 & 1023884 & 0.4638 & 5.70 & 11.30558 & 0.4668 &  2.311963 & 1.8753112 & 93.3\\\\\n\t3 & 2006 & Mar & 2006-03-01 & 2006.167 & 4.36 & 6.9 & 93.0 & 4.5 & 2.5 & 6.5 & ⋯ & -2.421135 & 2225145 & 1032060 & 0.4638 & 5.51 & 11.15534 & 0.4638 & -2.641655 & 1.3150849 & 92.8\\\\\n\t4 & 2006 & Apr & 2006-04-01 & 2006.250 & 4.16 & 6.5 & 91.8 & 4.5 & 2.5 & 6.5 & ⋯ & -2.198977 & 2235813 & 1019291 & 0.4559 & 5.32 & 10.84314 & 0.4638 & -2.421135 & 0.8411086 & 93.0\\\\\n\t5 & 2006 & May & 2006-05-01 & 2006.333 & 4.18 & 6.7 & 90.7 & 4.5 & 2.5 & 6.5 & ⋯ &  2.482859 & 2256419 & 1042621 & 0.4621 & 4.63 & 11.04846 & 0.4559 & -2.198977 & 0.5015829 & 91.8\\\\\n\\end{tabular}\n",
            "text/plain": [
              "  year month_name month_date month    market_inflation_expectation\n",
              "1 2006 Jan        2006-01-01 2006.000 4.58                        \n",
              "2 2006 Feb        2006-02-01 2006.083 4.49                        \n",
              "3 2006 Mar        2006-03-01 2006.167 4.36                        \n",
              "4 2006 Apr        2006-04-01 2006.250 4.16                        \n",
              "5 2006 May        2006-05-01 2006.333 4.18                        \n",
              "  consumer_inflation_expectation consumer_confidence_index inflation_target\n",
              "1 6.9                            93.3                      4.5             \n",
              "2 7.0                            92.8                      4.5             \n",
              "3 6.9                            93.0                      4.5             \n",
              "4 6.5                            91.8                      4.5             \n",
              "5 6.7                            90.7                      4.5             \n",
              "  inflation_target_lower_bound inflation_target_upper_bound ⋯\n",
              "1 2.5                          6.5                          ⋯\n",
              "2 2.5                          6.5                          ⋯\n",
              "3 2.5                          6.5                          ⋯\n",
              "4 2.5                          6.5                          ⋯\n",
              "5 2.5                          6.5                          ⋯\n",
              "  real_exchange_rate_gap gdp     primary_fiscal_result\n",
              "1  2.311963              2190643 1022618              \n",
              "2 -2.641655              2207671 1023884              \n",
              "3 -2.421135              2225145 1032060              \n",
              "4 -2.198977              2235813 1019291              \n",
              "5  2.482859              2256419 1042621              \n",
              "  primary_fiscal_result_to_gdp ipca_lag selic_deflated_lag\n",
              "1 0.4668                       5.69     11.87435          \n",
              "2 0.4638                       5.70     11.30558          \n",
              "3 0.4638                       5.51     11.15534          \n",
              "4 0.4559                       5.32     10.84314          \n",
              "5 0.4621                       4.63     11.04846          \n",
              "  primary_fiscal_result_to_gdp_lag real_exchange_rate_gap_lag\n",
              "1 0.4654                            2.145933                 \n",
              "2 0.4668                            2.311963                 \n",
              "3 0.4638                           -2.641655                 \n",
              "4 0.4638                           -2.421135                 \n",
              "5 0.4559                           -2.198977                 \n",
              "  real_household_income_gap_lag consumer_confidence_index_lag\n",
              "1 2.0099366                     88.7                         \n",
              "2 1.8753112                     93.3                         \n",
              "3 1.3150849                     92.8                         \n",
              "4 0.8411086                     93.0                         \n",
              "5 0.5015829                     91.8                         "
            ]
          },
          "metadata": {}
        }
      ],
      "source": [
        "head(df_public_data, 5)"
      ]
    },
    {
      "cell_type": "markdown",
      "metadata": {
        "id": "BtWrxUCX5iG2"
      },
      "source": [
        "- #### **Salvar em formato `.csv` e `.xlsx`**"
      ]
    },
    {
      "cell_type": "code",
      "execution_count": 14,
      "metadata": {
        "id": "6prspGu35tBC"
      },
      "outputs": [],
      "source": [
        "# Salve o DataFrame como um arquivo CSV localmente\n",
        "write.csv(df_public_data, file = \"public_data.csv\", row.names = FALSE)"
      ]
    },
    {
      "cell_type": "code",
      "execution_count": 15,
      "metadata": {
        "id": "xOSZhRLm1ieu"
      },
      "outputs": [],
      "source": [
        "# Salve o DataFrame como um arquivo XLSX localmente\n",
        "write_xlsx(df_public_data, path = \"/content/public_data.xlsx\")"
      ]
    }
  ],
  "metadata": {
    "colab": {
      "provenance": [],
      "authorship_tag": "ABX9TyMbuUg7vGr7uCAvfgFn4h4k"
    },
    "kernelspec": {
      "display_name": "R",
      "name": "ir"
    },
    "language_info": {
      "name": "R"
    }
  },
  "nbformat": 4,
  "nbformat_minor": 0
}