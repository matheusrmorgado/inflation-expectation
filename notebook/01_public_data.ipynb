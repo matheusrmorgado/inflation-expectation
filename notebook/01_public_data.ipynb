{
  "cells": [
    {
      "cell_type": "markdown",
      "metadata": {
        "id": "t-bL7gW32JnO"
      },
      "source": [
        "# **FGV EESP**\n",
        "\n",
        "- ## Dados Econômicos - Brasil\n",
        "---\n",
        "\n"
      ]
    },
    {
      "cell_type": "markdown",
      "metadata": {
        "id": "S60DDHrr2L7c"
      },
      "source": [
        "### **Bibliotecas**"
      ]
    },
    {
      "cell_type": "code",
      "execution_count": null,
      "metadata": {
        "id": "jyv8rwm_2GK_"
      },
      "outputs": [],
      "source": [
        "# Obter os dados do SGS do Banco Central do Brasil\n",
        "install.packages(\"rbcb\")\n",
        "\n",
        "# Salvar dados em formato .xlsx\n",
        "install.packages(\"writexl\")\n",
        "\n",
        "# Implementar filtro HP\n",
        "install.packages(\"mFilter\")"
      ]
    },
    {
      "cell_type": "code",
      "execution_count": null,
      "metadata": {
        "id": "L3QR8sqJ2NU-"
      },
      "outputs": [],
      "source": [
        "library(dplyr)\n",
        "library(httr)\n",
        "library(jsonlite)\n",
        "library(lubridate)\n",
        "library(mFilter)\n",
        "library(readxl)\n",
        "library(rbcb)\n",
        "library(tidyverse)\n",
        "library(writexl)\n",
        "library(zoo)"
      ]
    },
    {
      "cell_type": "markdown",
      "metadata": {
        "id": "QuUqHoAT3Lge"
      },
      "source": [
        "### **Dados**"
      ]
    },
    {
      "cell_type": "markdown",
      "source": [
        "- #### **Search Volume Index (SVI)**\n",
        "\n",
        "  * Referência: [Google Trends](https://trends.google.com/trends/explore?date=all&geo=BR&q=Infla%C3%A7%C3%A3o,IPCA,Selic&hl=pt-br)"
      ],
      "metadata": {
        "id": "sCxVaQhvL8mz"
      }
    },
    {
      "cell_type": "code",
      "source": [
        "# Pesquisas no Brasil sobre IPCA, Selic e Inflação\n",
        "\n",
        "# Caminho do arquivo original\n",
        "file_path <- \"https://github.com/matheusrmorgado/inflation-expectation/raw/main/data/google_trends_brazil.xlsx\"\n",
        "\n",
        "# Download do arquivo\n",
        "download.file(file_path, \"google_trends_brazil.xlsx\")\n",
        "\n",
        "# Ler o arquivo Excel e converter em dataframe\n",
        "df_google_trends <- as.data.frame(read_excel(\"google_trends_brazil.xlsx\"))\n",
        "\n",
        "# Filtrar os dados de 2005-12-01 até 2023-09-01\n",
        "df_google_trends <- df_google_trends %>% filter(as.Date(month_date) >= as.Date(\"2005-12-01\") & as.Date(month_date) <= as.Date(\"2023-09-01\"))\n",
        "\n",
        "# Lista de variáveis\n",
        "variables_to_convert <- c(\"month_date\", \"search_term_ipca\",\"search_term_selic\",\"search_term_inflation\")\n",
        "\n",
        "# Loop para converter as variáveis em séries temporais\n",
        "for (variable in variables_to_convert) {\n",
        "  df_google_trends[[variable]] <- ts(df_google_trends[[variable]], start = c(2005, 12), frequency = 12)\n",
        "}\n",
        "\n",
        "df_google_trends <- df_google_trends[, 2:4]"
      ],
      "metadata": {
        "id": "oQwB1GmPL8VN"
      },
      "execution_count": 3,
      "outputs": []
    },
    {
      "cell_type": "markdown",
      "metadata": {
        "id": "HCOKstgE365D"
      },
      "source": [
        "- #### **Expectativa de Inflação do Mercado**\n",
        "\n",
        "  * Referência: [Olinda BCB](https://olinda.bcb.gov.br/olinda/servico/Expectativas/versao/v1/aplicacao#!/recursos/ExpectativasMercadoInflacao12Meses#eyJmb3JtdWxhcmlvIjp7IiRmb3JtYXQiOiJqc29uIiwiJHRvcCI6MTAwLCIkZmlsdGVyIjoiBDkEIGVxIDAgYW5kIAQyBCBlcSAnUycgYW5kIAQwBCBlcSAnSVBDQScgYW5kIAQxBCBnZSAnMjAwNi0wMS0wMScgYW5kIAQxBCBsZSAnMjAyMy0wNi0zMCciLCIkb3JkZXJieSI6IgQxBCBkZXNjIn0sInByb3ByaWVkYWRlcyI6WzAsMSwzLDQsNV0sInBlc3F1aXNhZG8iOnRydWUsImFjdGl2ZVRhYiI6InRhYmxlIiwiZ3JpZFN0YXRlIjp7AzADOlt7A0IDIgQwBCIsA0EDfSx7A0IDIgQxBCIsA0EDfSx7A0IDIgQzBCIsA0EDfSx7A0IDIgQzBG5hIiwDQQN9LHsDQgMiBDUEIiwDQQN9XSwDMQM6e30sAzIDOltdLAMzAzp7fSwDNAM6e30sAzUDOnt9fSwicGl2b3RPcHRpb25zIjp7A2EDOnt9LANiAzpbXSwDYwM6NTAwLANkAzpbIgQxBCJdLANlAzpbXSwDZgM6WyJN6WRpYSJdLANnAzoidmFsdWVfel90b19hIiwDaAM6InZhbHVlX3pfdG9fYSIsA2kDOnt9LANqAzp7fSwDawM6ODUsA2wDOmZhbHNlLANtAzp7fSwDbgM6e30sA28DOiJN6WRpYSIsA3ADOiJMaW5lIENoYXJ0In19)"
      ]
    },
    {
      "cell_type": "code",
      "execution_count": 4,
      "metadata": {
        "id": "zpsiiBD-5rfj",
        "colab": {
          "base_uri": "https://localhost:8080/"
        },
        "outputId": "100ecb61-5869-4ed3-b5e0-8ef2ffd1571b"
      },
      "outputs": [
        {
          "output_type": "stream",
          "name": "stderr",
          "text": [
            "\u001b[1m\u001b[22m`summarise()` has grouped output by 'year', 'month_date'. You can override\n",
            "using the `.groups` argument.\n"
          ]
        }
      ],
      "source": [
        "# Definir a URL da API do BCB para obter dados de Expectativa do Mercado para IPCA nos próximos 12 meses\n",
        "url <- \"https://olinda.bcb.gov.br/olinda/servico/Expectativas/versao/v1/odata/ExpectativasMercadoInflacao12Meses?$filter=baseCalculo%20eq%200%20and%20Suavizada%20eq%20'S'%20and%20Indicador%20eq%20'IPCA'%20and%20Data%20ge%20'2005-12-01'%20and%20Data%20le%20'2023-09-30'&$orderby=Data%20desc&$format=json&$select=Indicador,Data,Media,Mediana,DesvioPadrao\"\n",
        "\n",
        "# Realizar a consulta e ler o arquivo JSON\n",
        "response <- GET(url)\n",
        "data_json <- rawToChar(response$content)\n",
        "\n",
        "# Ajuste das colunas de data\n",
        "focus_inflation_expectation <- fromJSON(data_json)$value %>%\n",
        "  mutate(day = ymd(Data),\n",
        "         month_date = floor_date(day, unit = \"month\"),\n",
        "         year = year(month_date),\n",
        "         day_of_week = weekdays(day),\n",
        "         month_name = month(month_date, label = TRUE, abbr = TRUE))\n",
        "\n",
        "# Filtrar apenas as sextas-feiras (Referência do Boletim Focus)\n",
        "df_fridays_only <- focus_inflation_expectation %>%\n",
        "  filter(day_of_week == \"Friday\")\n",
        "\n",
        "# Calcular média da coluna \"Mediana\" agrupada por \"year\" e \"month_date\"\n",
        "df_olinda <- as.data.frame(df_fridays_only %>%\n",
        "  group_by(year, month_date, month_name) %>%\n",
        "  summarize(market_inflation_expectation = round(mean(Mediana), 2)))\n",
        "\n",
        "# Converter variável em série temporal\n",
        "df_olinda$market_inflation_expectation <- ts(df_olinda$market_inflation_expectation, start = c(2005, 12), frequency = 12)\n",
        "\n",
        "# Adicionar a coluna 'month' com base em 'market_inflation_expectation'\n",
        "df_olinda$month <- time(df_olinda$market_inflation_expectation)"
      ]
    },
    {
      "cell_type": "markdown",
      "metadata": {
        "id": "_c2y1Tp4Fz0p"
      },
      "source": [
        "- #### **Meta de Inflação**\n",
        "\n",
        "  * Referência: [BCB](https://www.bcb.gov.br/controleinflacao/historicometas)"
      ]
    },
    {
      "cell_type": "code",
      "execution_count": 5,
      "metadata": {
        "id": "ikQq_vtcFzG9"
      },
      "outputs": [],
      "source": [
        "# Histórico das metas para a inflação\n",
        "\n",
        "# Caminho do arquivo original\n",
        "file_path <- \"https://github.com/matheusrmorgado/inflation-expectation/raw/main/data/bcb_inflation_target.xlsx\"\n",
        "\n",
        "# Download do arquivo\n",
        "download.file(file_path, \"bcb_inflation_target.xlsx\")\n",
        "\n",
        "# Ler o arquivo Excel e converter em dataframe\n",
        "df_bcb <- as.data.frame(read_excel(\"bcb_inflation_target.xlsx\"))\n",
        "\n",
        "# Filtrar os dados de 2005-12-01 até 2023-09-01\n",
        "df_bcb <- df_bcb %>% filter(as.Date(month_date) >= as.Date(\"2005-12-01\") & as.Date(month_date) <= as.Date(\"2023-09-01\"))\n",
        "\n",
        "# Lista de variáveis\n",
        "variables_to_convert <- c(\"inflation_target\",\"inflation_target_lower_bound\",\"inflation_target_upper_bound\",\"inflation_target_wtd_avg\",\"inflation_target_lower_bound_wtd_avg\",\"inflation_target_upper_bound_wtd_avg\")\n",
        "\n",
        "# Loop para converter as variáveis em séries temporais\n",
        "for (variable in variables_to_convert) {\n",
        "  df_bcb[[variable]] <- ts(df_bcb[[variable]], start = c(2005, 12), frequency = 12)\n",
        "}\n",
        "\n",
        "# Selecionar apenas variáveis relacionadas a inflação\n",
        "df_bcb <- df_bcb[, 3:8]"
      ]
    },
    {
      "cell_type": "markdown",
      "metadata": {
        "id": "Vr-ZxwiQ5FiX"
      },
      "source": [
        "- #### **Expectativa de Inflação dos Consumidores**\n",
        "\n",
        "  * Referência: [FGV IBRE](https://extra-ibre.fgv.br/ibre/sitefgvdados/default.aspx?Convidado=S)"
      ]
    },
    {
      "cell_type": "code",
      "execution_count": 6,
      "metadata": {
        "id": "VsNx34sIeRM6"
      },
      "outputs": [],
      "source": [
        "# Indicador de Expectativa de Inflação dos Consumidores - Código FGV Dados: 1416188\n",
        "# Índice de Confiança do Consumidor com Ajuste Sazonal - Código FGV Dados: 1006982\n",
        "\n",
        "# Caminho do arquivo original\n",
        "file_path <- \"https://github.com/matheusrmorgado/inflation-expectation/raw/main/data/fgv_ibre.xlsx\"\n",
        "\n",
        "# Download do arquivo\n",
        "download.file(file_path, \"fgv_ibre.xlsx\")\n",
        "\n",
        "# Ler o arquivo Excel e converter em dataframe\n",
        "df_fgv <- as.data.frame(read_excel(\"fgv_ibre.xlsx\"))\n",
        "\n",
        "# Filtrar os dados de 2005-12-01 até 2023-09-01\n",
        "df_fgv <- df_fgv %>% filter(as.Date(month_date) >= as.Date(\"2005-12-01\") & as.Date(month_date) <= as.Date(\"2023-09-01\"))\n",
        "\n",
        "# Conversão em formato timeseries\n",
        "df_consumer <- as.data.frame(ts(df_fgv$consumer_inflation_expectation, start = c(2005, 12), frequency = 12))\n",
        "df_consumer <- rename(df_consumer, consumer_inflation_expectation = x)\n",
        "\n",
        "df_confidence <- as.data.frame(ts(df_fgv$consumer_confidence_index, start = c(2005, 12), frequency = 12))\n",
        "df_confidence <- rename(df_confidence, consumer_confidence_index = x)"
      ]
    },
    {
      "cell_type": "markdown",
      "metadata": {
        "id": "ha8OSlDG5LGu"
      },
      "source": [
        "- #### **Dados Macroeconômicos**\n",
        "\n",
        "  * Referência: [SGS BCB](https://www3.bcb.gov.br/sgspub/)"
      ]
    },
    {
      "cell_type": "code",
      "execution_count": 7,
      "metadata": {
        "id": "wJj14GFCd7Fk"
      },
      "outputs": [],
      "source": [
        "# Índice nacional de preços ao consumidor amplo acumulado em 12 meses (%)\n",
        "# SGS: 13522\n",
        "df_ipca <- as.data.frame(get_series(13522, start_date = \"2005-12-01\", end_date = \"2023-09-01\", as = \"ts\")) %>% rename(ipca = x)\n",
        "\n",
        "# Taxa de juros Selic acumulada no mês anualizada base 252 (% a.a.)\n",
        "# SGS: 4189\n",
        "df_selic <- as.data.frame(get_series(4189, start_date = \"2005-12-01\", end_date = \"2023-09-01\", as = \"ts\")) %>% rename(selic = x)\n",
        "\n",
        "# Selic deflacionada pelo IPCA\n",
        "df_selic_deflated <- 100*(((1+df_selic/100)/(1+df_ipca/100))-1) %>% rename(selic_deflated = selic)\n",
        "\n",
        "# PIB acumulado dos últimos 12 meses - valores correntes\n",
        "# SGS: 4382\n",
        "df_pib <- as.data.frame(get_series(4382, start_date = \"2005-12-01\", end_date = \"2023-09-01\", as = \"ts\")) %>% rename(gdp = x)\n",
        "\n",
        "# Divida líquida do governo geral - Saldos em R$ milhões\n",
        "# SGS: 4501\n",
        "df_primary_fiscal_result <- as.data.frame(get_series(4501, start_date = \"2005-12-01\", end_date = \"2023-09-01\", as = \"ts\")) %>% rename(primary_fiscal_result = x)\n",
        "\n",
        "# Dívida líquida do governo geral (% PIB)\n",
        "# SGS: 4536\n",
        "df_primary_fiscal_result_to_gdp <- as.data.frame(get_series(4536, start_date = \"2005-12-01\", end_date = \"2023-09-01\", as = \"ts\")) %>% rename(primary_fiscal_result_to_gdp = x)\n",
        "df_primary_fiscal_result_to_gdp <- df_primary_fiscal_result_to_gdp/100"
      ]
    },
    {
      "cell_type": "code",
      "execution_count": 8,
      "metadata": {
        "id": "LeSCWcwuMLKe"
      },
      "outputs": [],
      "source": [
        "# Índice da taxa de câmbio real efetiva (IPCA) - Jun/1994=100\n",
        "# SGS: 11752\n",
        "df_real_exchange_rate <- as.data.frame(get_series(11752, start_date = \"2004-01-01\", end_date = \"2023-09-01\")) %>%\n",
        "  rename(real_exchange_rate = \"11752\") %>%\n",
        "  filter(date >= as.Date(\"2005-12-01\")) %>%\n",
        "  select(real_exchange_rate)\n",
        "\n",
        "df_real_exchange_rate$real_exchange_rate <- ts(df_real_exchange_rate$real_exchange_rate, start = c(2005, 12), frequency = 12)\n",
        "df_real_exchange_rate$real_exchange_rate_trend <- as.numeric(hpfilter(df_real_exchange_rate$real_exchange_rate)$trend)\n",
        "df_real_exchange_rate$real_exchange_rate_trend <- ts(df_real_exchange_rate$real_exchange_rate_trend, start = c(2005, 12), frequency = 12)\n",
        "df_real_exchange_rate$real_exchange_rate_gap <- 100*((df_real_exchange_rate$real_exchange_rate/df_real_exchange_rate$real_exchange_rate_trend) - 1)"
      ]
    },
    {
      "cell_type": "code",
      "execution_count": 9,
      "metadata": {
        "id": "YOMGLenBJ0a1"
      },
      "outputs": [],
      "source": [
        "# Fator Deflacionário: Renda Nacional Disponível Bruta das Famílias, em valores constantes, deflacionada pelo IPCA (média móvel trimestral)\t/ Renda Nacional Disponível Bruta das Famílias - em valores correntes (média móvel trimestral)\n",
        "# SGS: 29025 / 29023\n",
        "df_deflation_factor <- get_series(29025, start_date = \"2005-12-01\", end_date = \"2023-09-01\", as = \"ts\")/\n",
        "  get_series(29023, start_date = \"2005-12-01\", end_date = \"2023-09-01\", as = \"ts\")\n",
        "\n",
        "# Renda Nacional Disponível Bruta das Famílias - em valores correntes, acumulada em doze meses\n",
        "# SGS: 29029\n",
        "df_rndbf_deflated <- as.data.frame(get_series(29029, start_date = \"2005-12-01\", end_date = \"2023-09-01\", as = \"ts\") * df_deflation_factor) %>% rename(real_household_income = x)\n",
        "\n",
        "df_rndbf_deflated$real_household_income <- ts(df_rndbf_deflated$real_household_income, start = c(2005, 12), frequency = 12)\n",
        "df_rndbf_deflated$real_household_income_trend <- as.numeric(hpfilter(df_rndbf_deflated$real_household_income)$trend)\n",
        "df_rndbf_deflated$real_household_income_trend <- ts(df_rndbf_deflated$real_household_income_trend, start = c(2005, 12), frequency = 12)\n",
        "df_rndbf_deflated$real_household_income_gap <- 100*((df_rndbf_deflated$real_household_income/df_rndbf_deflated$real_household_income_trend) - 1)"
      ]
    },
    {
      "cell_type": "markdown",
      "metadata": {
        "id": "eqlXfw5b5Xvn"
      },
      "source": [
        "- #### **União de todas as bases de dados**"
      ]
    },
    {
      "cell_type": "code",
      "execution_count": 10,
      "metadata": {
        "id": "eLXnJKCTARR-"
      },
      "outputs": [],
      "source": [
        "# Realiza a unificação de todas as tabelas do BCB e FGV IBRE\n",
        "df_public_data <- cbind(df_olinda, df_consumer, df_confidence, df_bcb, df_ipca, df_selic, df_selic_deflated, df_rndbf_deflated, df_real_exchange_rate, df_pib, df_primary_fiscal_result, df_primary_fiscal_result_to_gdp, df_google_trends)\n",
        "\n",
        "# Calcula o lag para IPCA e Selic\n",
        "df_public_data$ipca_lag <- c(NA, df_public_data$ipca[-nrow(df_public_data)])\n",
        "df_public_data$selic_deflated_lag <- c(NA, df_public_data$selic_deflated[-nrow(df_public_data)])\n",
        "df_public_data$primary_fiscal_result_to_gdp_lag <- c(NA, df_public_data$primary_fiscal_result_to_gdp[-nrow(df_public_data)])\n",
        "df_public_data$real_exchange_rate_gap_lag <- c(NA, df_public_data$real_exchange_rate_gap[-nrow(df_public_data)])\n",
        "df_public_data$real_household_income_gap_lag <- c(NA, df_public_data$real_household_income_gap[-nrow(df_public_data)])\n",
        "df_public_data$consumer_confidence_index_lag <- c(NA, df_public_data$consumer_confidence_index[-nrow(df_public_data)])\n",
        "\n",
        "# Converter as colunas \"ipca_lag\" e \"selic_lag\" para séries temporais\n",
        "df_public_data$ipca_lag <- ts(df_public_data$ipca_lag, start = c(2005, 12), frequency = 12)\n",
        "df_public_data$selic_deflated_lag <- ts(df_public_data$selic_deflated_lag, start = c(2005, 12), frequency = 12)\n",
        "df_public_data$primary_fiscal_result_to_gdp_lag <- ts(df_public_data$primary_fiscal_result_to_gdp_lag, start = c(2005, 12), frequency = 12)\n",
        "df_public_data$real_exchange_rate_gap_lag <- ts(df_public_data$real_exchange_rate_gap_lag, start = c(2005, 12), frequency = 12)\n",
        "df_public_data$real_household_income_gap_lag <- ts(df_public_data$real_household_income_gap_lag, start = c(2005, 12), frequency = 12)\n",
        "df_public_data$consumer_confidence_index_lag <- ts(df_public_data$consumer_confidence_index_lag, start = c(2005, 12), frequency = 12)\n",
        "\n",
        "# Reorganiza as colunas, colocando \"month_date\" e \"month\" nas primeiras posições\n",
        "df_public_data <- df_public_data %>% dplyr::select(year, month_name, month_date, month, everything())"
      ]
    },
    {
      "cell_type": "code",
      "execution_count": 11,
      "metadata": {
        "id": "m7-hRq-CuTrv"
      },
      "outputs": [],
      "source": [
        "# Identificar as variáveis que são Time-Series\n",
        "ts_cols <- sapply(df_public_data, is.ts)\n",
        "\n",
        "# Filtrar o dataframe\n",
        "df_public_data <- df_public_data %>%\n",
        "  filter(month_date >= as.Date(\"2006-01-01\"))\n",
        "\n",
        "# Transformar as colunas identificadas como Time-Series de volta em Time-Series\n",
        "df_public_data[ts_cols] <- lapply(df_public_data[ts_cols], function(x) ts(x, start = c(2006, 1), frequency = 12))"
      ]
    },
    {
      "cell_type": "markdown",
      "metadata": {
        "id": "ghYa01Oq5dSJ"
      },
      "source": [
        "- #### **Visualização da base de dados**"
      ]
    },
    {
      "cell_type": "code",
      "execution_count": 12,
      "metadata": {
        "colab": {
          "base_uri": "https://localhost:8080/"
        },
        "id": "McZ8wWk7Gdgz",
        "outputId": "484148dc-825e-405b-b519-f060dd8a031f"
      },
      "outputs": [
        {
          "output_type": "stream",
          "name": "stdout",
          "text": [
            "'data.frame':\t213 obs. of  34 variables:\n",
            " $ year                                : num  2006 2006 2006 2006 2006 ...\n",
            " $ month_name                          : Ord.factor w/ 12 levels \"Jan\"<\"Feb\"<\"Mar\"<..: 1 2 3 4 5 6 7 8 9 10 ...\n",
            " $ month_date                          : Date, format: \"2006-01-01\" \"2006-02-01\" ...\n",
            " $ month                               : Time-Series  from 2006 to 2024: 2006 2006 2006 2006 2006 ...\n",
            " $ market_inflation_expectation        : Time-Series  from 2006 to 2024: 4.58 4.49 4.36 4.16 4.18 4.25 4.4 4.48 4.29 4.05 ...\n",
            " $ consumer_inflation_expectation      : Time-Series  from 2006 to 2024: 6.9 7 6.9 6.5 6.7 6.3 6.9 6.4 6.3 5.8 ...\n",
            " $ consumer_confidence_index           : Time-Series  from 2006 to 2024: 93.3 92.8 93 91.8 90.7 90.7 91.2 91.8 91.5 94.3 ...\n",
            " $ inflation_target                    : Time-Series  from 2006 to 2024: 4.5 4.5 4.5 4.5 4.5 4.5 4.5 4.5 4.5 4.5 ...\n",
            " $ inflation_target_lower_bound        : Time-Series  from 2006 to 2024: 2.5 2.5 2.5 2.5 2.5 2.5 2.5 2.5 2.5 2.5 ...\n",
            " $ inflation_target_upper_bound        : Time-Series  from 2006 to 2024: 6.5 6.5 6.5 6.5 6.5 6.5 6.5 6.5 6.5 6.5 ...\n",
            " $ inflation_target_wtd_avg            : Time-Series  from 2006 to 2024: 4.5 4.5 4.5 4.5 4.5 4.5 4.5 4.5 4.5 4.5 ...\n",
            " $ inflation_target_lower_bound_wtd_avg: Time-Series  from 2006 to 2024: 2.5 2.5 2.5 2.5 2.5 2.5 2.5 2.5 2.5 2.5 ...\n",
            " $ inflation_target_upper_bound_wtd_avg: Time-Series  from 2006 to 2024: 6.5 6.5 6.5 6.5 6.5 6.5 6.5 6.5 6.5 6.5 ...\n",
            " $ ipca                                : Time-Series  from 2006 to 2024: 5.7 5.51 5.32 4.63 4.23 4.03 3.97 3.84 3.7 3.26 ...\n",
            " $ selic                               : Time-Series  from 2006 to 2024: 17.6 17.3 16.7 16.2 15.7 ...\n",
            " $ selic_deflated                      : Time-Series  from 2006 to 2024: 11.3 11.2 10.8 11 11 ...\n",
            " $ real_household_income               : Time-Series  from 2006 to 2024: 3745247 3751122 3759979 3773571 3794289 ...\n",
            " $ real_household_income_trend         : Time-Series  from 2006 to 2024: 3676311 3702450 3728590 3754733 3780882 ...\n",
            " $ real_household_income_gap           : Time-Series  from 2006 to 2024: 1.875 1.315 0.842 0.502 0.355 ...\n",
            " $ real_exchange_rate                  : Time-Series  from 2006 to 2024: 100.7 95.4 95.3 95.1 99.3 ...\n",
            " $ real_exchange_rate_trend            : Time-Series  from 2006 to 2024: 98.4 98 97.7 97.3 96.9 ...\n",
            " $ real_exchange_rate_gap              : Time-Series  from 2006 to 2024: 2.31 -2.64 -2.42 -2.2 2.48 ...\n",
            " $ gdp                                 : Time-Series  from 2006 to 2024: 2190643 2207671 2225145 2235813 2256419 ...\n",
            " $ primary_fiscal_result               : Time-Series  from 2006 to 2024: 1022618 1023884 1032060 1019291 1042621 ...\n",
            " $ primary_fiscal_result_to_gdp        : Time-Series  from 2006 to 2024: 0.467 0.464 0.464 0.456 0.462 ...\n",
            " $ search_term_ipca                    : Time-Series  from 2006 to 2024: 26 25 19 19 23 15 16 17 15 18 ...\n",
            " $ search_term_selic                   : Time-Series  from 2006 to 2024: 37 38 56 41 42 45 43 38 44 43 ...\n",
            " $ search_term_inflation               : Time-Series  from 2006 to 2024: 24 27 40 47 59 45 21 43 30 41 ...\n",
            " $ ipca_lag                            : Time-Series  from 2006 to 2024: 5.69 5.7 5.51 5.32 4.63 4.23 4.03 3.97 3.84 3.7 ...\n",
            " $ selic_deflated_lag                  : Time-Series  from 2006 to 2024: 11.9 11.3 11.2 10.8 11 ...\n",
            " $ primary_fiscal_result_to_gdp_lag    : Time-Series  from 2006 to 2024: 0.465 0.467 0.464 0.464 0.456 ...\n",
            " $ real_exchange_rate_gap_lag          : Time-Series  from 2006 to 2024: 2.15 2.31 -2.64 -2.42 -2.2 ...\n",
            " $ real_household_income_gap_lag       : Time-Series  from 2006 to 2024: 2.012 1.875 1.315 0.842 0.502 ...\n",
            " $ consumer_confidence_index_lag       : Time-Series  from 2006 to 2024: 88.7 93.3 92.8 93 91.8 90.7 90.7 91.2 91.8 91.5 ...\n"
          ]
        }
      ],
      "source": [
        "str(df_public_data)"
      ]
    },
    {
      "cell_type": "code",
      "execution_count": 13,
      "metadata": {
        "colab": {
          "base_uri": "https://localhost:8080/",
          "height": 275
        },
        "id": "80etpaws0NUk",
        "outputId": "81af422a-b1a7-4e0d-8e8c-9582626cf918"
      },
      "outputs": [
        {
          "output_type": "display_data",
          "data": {
            "text/html": [
              "<table class=\"dataframe\">\n",
              "<caption>A data.frame: 5 × 34</caption>\n",
              "<thead>\n",
              "\t<tr><th></th><th scope=col>year</th><th scope=col>month_name</th><th scope=col>month_date</th><th scope=col>month</th><th scope=col>market_inflation_expectation</th><th scope=col>consumer_inflation_expectation</th><th scope=col>consumer_confidence_index</th><th scope=col>inflation_target</th><th scope=col>inflation_target_lower_bound</th><th scope=col>inflation_target_upper_bound</th><th scope=col>⋯</th><th scope=col>primary_fiscal_result_to_gdp</th><th scope=col>search_term_ipca</th><th scope=col>search_term_selic</th><th scope=col>search_term_inflation</th><th scope=col>ipca_lag</th><th scope=col>selic_deflated_lag</th><th scope=col>primary_fiscal_result_to_gdp_lag</th><th scope=col>real_exchange_rate_gap_lag</th><th scope=col>real_household_income_gap_lag</th><th scope=col>consumer_confidence_index_lag</th></tr>\n",
              "\t<tr><th></th><th scope=col>&lt;dbl&gt;</th><th scope=col>&lt;ord&gt;</th><th scope=col>&lt;date&gt;</th><th scope=col>&lt;dbl&gt;</th><th scope=col>&lt;dbl&gt;</th><th scope=col>&lt;dbl&gt;</th><th scope=col>&lt;dbl&gt;</th><th scope=col>&lt;dbl&gt;</th><th scope=col>&lt;dbl&gt;</th><th scope=col>&lt;dbl&gt;</th><th scope=col>⋯</th><th scope=col>&lt;dbl&gt;</th><th scope=col>&lt;dbl&gt;</th><th scope=col>&lt;dbl&gt;</th><th scope=col>&lt;dbl&gt;</th><th scope=col>&lt;dbl&gt;</th><th scope=col>&lt;dbl&gt;</th><th scope=col>&lt;dbl&gt;</th><th scope=col>&lt;dbl&gt;</th><th scope=col>&lt;dbl&gt;</th><th scope=col>&lt;dbl&gt;</th></tr>\n",
              "</thead>\n",
              "<tbody>\n",
              "\t<tr><th scope=row>1</th><td>2006</td><td>Jan</td><td>2006-01-01</td><td>2006.000</td><td>4.58</td><td>6.9</td><td>93.3</td><td>4.5</td><td>2.5</td><td>6.5</td><td>⋯</td><td>0.4668</td><td>26</td><td>37</td><td>24</td><td>5.69</td><td>11.87435</td><td>0.4654</td><td> 2.145092</td><td>2.0116777</td><td>88.7</td></tr>\n",
              "\t<tr><th scope=row>2</th><td>2006</td><td>Feb</td><td>2006-02-01</td><td>2006.083</td><td>4.49</td><td>7.0</td><td>92.8</td><td>4.5</td><td>2.5</td><td>6.5</td><td>⋯</td><td>0.4638</td><td>25</td><td>38</td><td>27</td><td>5.70</td><td>11.30558</td><td>0.4668</td><td> 2.311176</td><td>1.8751281</td><td>93.3</td></tr>\n",
              "\t<tr><th scope=row>3</th><td>2006</td><td>Mar</td><td>2006-03-01</td><td>2006.167</td><td>4.36</td><td>6.9</td><td>93.0</td><td>4.5</td><td>2.5</td><td>6.5</td><td>⋯</td><td>0.4638</td><td>19</td><td>56</td><td>40</td><td>5.51</td><td>11.15534</td><td>0.4638</td><td>-2.642350</td><td>1.3145792</td><td>92.8</td></tr>\n",
              "\t<tr><th scope=row>4</th><td>2006</td><td>Apr</td><td>2006-04-01</td><td>2006.250</td><td>4.16</td><td>6.5</td><td>91.8</td><td>4.5</td><td>2.5</td><td>6.5</td><td>⋯</td><td>0.4559</td><td>19</td><td>41</td><td>47</td><td>5.32</td><td>10.84314</td><td>0.4638</td><td>-2.421777</td><td>0.8418516</td><td>93.0</td></tr>\n",
              "\t<tr><th scope=row>5</th><td>2006</td><td>May</td><td>2006-05-01</td><td>2006.333</td><td>4.18</td><td>6.7</td><td>90.7</td><td>4.5</td><td>2.5</td><td>6.5</td><td>⋯</td><td>0.4621</td><td>23</td><td>42</td><td>59</td><td>4.63</td><td>11.04846</td><td>0.4559</td><td>-2.199566</td><td>0.5017137</td><td>91.8</td></tr>\n",
              "</tbody>\n",
              "</table>\n"
            ],
            "text/markdown": "\nA data.frame: 5 × 34\n\n| <!--/--> | year &lt;dbl&gt; | month_name &lt;ord&gt; | month_date &lt;date&gt; | month &lt;dbl&gt; | market_inflation_expectation &lt;dbl&gt; | consumer_inflation_expectation &lt;dbl&gt; | consumer_confidence_index &lt;dbl&gt; | inflation_target &lt;dbl&gt; | inflation_target_lower_bound &lt;dbl&gt; | inflation_target_upper_bound &lt;dbl&gt; | ⋯ ⋯ | primary_fiscal_result_to_gdp &lt;dbl&gt; | search_term_ipca &lt;dbl&gt; | search_term_selic &lt;dbl&gt; | search_term_inflation &lt;dbl&gt; | ipca_lag &lt;dbl&gt; | selic_deflated_lag &lt;dbl&gt; | primary_fiscal_result_to_gdp_lag &lt;dbl&gt; | real_exchange_rate_gap_lag &lt;dbl&gt; | real_household_income_gap_lag &lt;dbl&gt; | consumer_confidence_index_lag &lt;dbl&gt; |\n|---|---|---|---|---|---|---|---|---|---|---|---|---|---|---|---|---|---|---|---|---|---|\n| 1 | 2006 | Jan | 2006-01-01 | 2006.000 | 4.58 | 6.9 | 93.3 | 4.5 | 2.5 | 6.5 | ⋯ | 0.4668 | 26 | 37 | 24 | 5.69 | 11.87435 | 0.4654 |  2.145092 | 2.0116777 | 88.7 |\n| 2 | 2006 | Feb | 2006-02-01 | 2006.083 | 4.49 | 7.0 | 92.8 | 4.5 | 2.5 | 6.5 | ⋯ | 0.4638 | 25 | 38 | 27 | 5.70 | 11.30558 | 0.4668 |  2.311176 | 1.8751281 | 93.3 |\n| 3 | 2006 | Mar | 2006-03-01 | 2006.167 | 4.36 | 6.9 | 93.0 | 4.5 | 2.5 | 6.5 | ⋯ | 0.4638 | 19 | 56 | 40 | 5.51 | 11.15534 | 0.4638 | -2.642350 | 1.3145792 | 92.8 |\n| 4 | 2006 | Apr | 2006-04-01 | 2006.250 | 4.16 | 6.5 | 91.8 | 4.5 | 2.5 | 6.5 | ⋯ | 0.4559 | 19 | 41 | 47 | 5.32 | 10.84314 | 0.4638 | -2.421777 | 0.8418516 | 93.0 |\n| 5 | 2006 | May | 2006-05-01 | 2006.333 | 4.18 | 6.7 | 90.7 | 4.5 | 2.5 | 6.5 | ⋯ | 0.4621 | 23 | 42 | 59 | 4.63 | 11.04846 | 0.4559 | -2.199566 | 0.5017137 | 91.8 |\n\n",
            "text/latex": "A data.frame: 5 × 34\n\\begin{tabular}{r|lllllllllllllllllllll}\n  & year & month\\_name & month\\_date & month & market\\_inflation\\_expectation & consumer\\_inflation\\_expectation & consumer\\_confidence\\_index & inflation\\_target & inflation\\_target\\_lower\\_bound & inflation\\_target\\_upper\\_bound & ⋯ & primary\\_fiscal\\_result\\_to\\_gdp & search\\_term\\_ipca & search\\_term\\_selic & search\\_term\\_inflation & ipca\\_lag & selic\\_deflated\\_lag & primary\\_fiscal\\_result\\_to\\_gdp\\_lag & real\\_exchange\\_rate\\_gap\\_lag & real\\_household\\_income\\_gap\\_lag & consumer\\_confidence\\_index\\_lag\\\\\n  & <dbl> & <ord> & <date> & <dbl> & <dbl> & <dbl> & <dbl> & <dbl> & <dbl> & <dbl> & ⋯ & <dbl> & <dbl> & <dbl> & <dbl> & <dbl> & <dbl> & <dbl> & <dbl> & <dbl> & <dbl>\\\\\n\\hline\n\t1 & 2006 & Jan & 2006-01-01 & 2006.000 & 4.58 & 6.9 & 93.3 & 4.5 & 2.5 & 6.5 & ⋯ & 0.4668 & 26 & 37 & 24 & 5.69 & 11.87435 & 0.4654 &  2.145092 & 2.0116777 & 88.7\\\\\n\t2 & 2006 & Feb & 2006-02-01 & 2006.083 & 4.49 & 7.0 & 92.8 & 4.5 & 2.5 & 6.5 & ⋯ & 0.4638 & 25 & 38 & 27 & 5.70 & 11.30558 & 0.4668 &  2.311176 & 1.8751281 & 93.3\\\\\n\t3 & 2006 & Mar & 2006-03-01 & 2006.167 & 4.36 & 6.9 & 93.0 & 4.5 & 2.5 & 6.5 & ⋯ & 0.4638 & 19 & 56 & 40 & 5.51 & 11.15534 & 0.4638 & -2.642350 & 1.3145792 & 92.8\\\\\n\t4 & 2006 & Apr & 2006-04-01 & 2006.250 & 4.16 & 6.5 & 91.8 & 4.5 & 2.5 & 6.5 & ⋯ & 0.4559 & 19 & 41 & 47 & 5.32 & 10.84314 & 0.4638 & -2.421777 & 0.8418516 & 93.0\\\\\n\t5 & 2006 & May & 2006-05-01 & 2006.333 & 4.18 & 6.7 & 90.7 & 4.5 & 2.5 & 6.5 & ⋯ & 0.4621 & 23 & 42 & 59 & 4.63 & 11.04846 & 0.4559 & -2.199566 & 0.5017137 & 91.8\\\\\n\\end{tabular}\n",
            "text/plain": [
              "  year month_name month_date month    market_inflation_expectation\n",
              "1 2006 Jan        2006-01-01 2006.000 4.58                        \n",
              "2 2006 Feb        2006-02-01 2006.083 4.49                        \n",
              "3 2006 Mar        2006-03-01 2006.167 4.36                        \n",
              "4 2006 Apr        2006-04-01 2006.250 4.16                        \n",
              "5 2006 May        2006-05-01 2006.333 4.18                        \n",
              "  consumer_inflation_expectation consumer_confidence_index inflation_target\n",
              "1 6.9                            93.3                      4.5             \n",
              "2 7.0                            92.8                      4.5             \n",
              "3 6.9                            93.0                      4.5             \n",
              "4 6.5                            91.8                      4.5             \n",
              "5 6.7                            90.7                      4.5             \n",
              "  inflation_target_lower_bound inflation_target_upper_bound ⋯\n",
              "1 2.5                          6.5                          ⋯\n",
              "2 2.5                          6.5                          ⋯\n",
              "3 2.5                          6.5                          ⋯\n",
              "4 2.5                          6.5                          ⋯\n",
              "5 2.5                          6.5                          ⋯\n",
              "  primary_fiscal_result_to_gdp search_term_ipca search_term_selic\n",
              "1 0.4668                       26               37               \n",
              "2 0.4638                       25               38               \n",
              "3 0.4638                       19               56               \n",
              "4 0.4559                       19               41               \n",
              "5 0.4621                       23               42               \n",
              "  search_term_inflation ipca_lag selic_deflated_lag\n",
              "1 24                    5.69     11.87435          \n",
              "2 27                    5.70     11.30558          \n",
              "3 40                    5.51     11.15534          \n",
              "4 47                    5.32     10.84314          \n",
              "5 59                    4.63     11.04846          \n",
              "  primary_fiscal_result_to_gdp_lag real_exchange_rate_gap_lag\n",
              "1 0.4654                            2.145092                 \n",
              "2 0.4668                            2.311176                 \n",
              "3 0.4638                           -2.642350                 \n",
              "4 0.4638                           -2.421777                 \n",
              "5 0.4559                           -2.199566                 \n",
              "  real_household_income_gap_lag consumer_confidence_index_lag\n",
              "1 2.0116777                     88.7                         \n",
              "2 1.8751281                     93.3                         \n",
              "3 1.3145792                     92.8                         \n",
              "4 0.8418516                     93.0                         \n",
              "5 0.5017137                     91.8                         "
            ]
          },
          "metadata": {}
        }
      ],
      "source": [
        "head(df_public_data, 5)"
      ]
    },
    {
      "cell_type": "code",
      "source": [
        "tail(df_public_data, 5)"
      ],
      "metadata": {
        "colab": {
          "base_uri": "https://localhost:8080/",
          "height": 275
        },
        "id": "pQPUglV2MXt-",
        "outputId": "5b20f042-960d-4d90-ac22-15819ec8dbd9"
      },
      "execution_count": 14,
      "outputs": [
        {
          "output_type": "display_data",
          "data": {
            "text/html": [
              "<table class=\"dataframe\">\n",
              "<caption>A data.frame: 5 × 34</caption>\n",
              "<thead>\n",
              "\t<tr><th></th><th scope=col>year</th><th scope=col>month_name</th><th scope=col>month_date</th><th scope=col>month</th><th scope=col>market_inflation_expectation</th><th scope=col>consumer_inflation_expectation</th><th scope=col>consumer_confidence_index</th><th scope=col>inflation_target</th><th scope=col>inflation_target_lower_bound</th><th scope=col>inflation_target_upper_bound</th><th scope=col>⋯</th><th scope=col>primary_fiscal_result_to_gdp</th><th scope=col>search_term_ipca</th><th scope=col>search_term_selic</th><th scope=col>search_term_inflation</th><th scope=col>ipca_lag</th><th scope=col>selic_deflated_lag</th><th scope=col>primary_fiscal_result_to_gdp_lag</th><th scope=col>real_exchange_rate_gap_lag</th><th scope=col>real_household_income_gap_lag</th><th scope=col>consumer_confidence_index_lag</th></tr>\n",
              "\t<tr><th></th><th scope=col>&lt;dbl&gt;</th><th scope=col>&lt;ord&gt;</th><th scope=col>&lt;date&gt;</th><th scope=col>&lt;dbl&gt;</th><th scope=col>&lt;dbl&gt;</th><th scope=col>&lt;dbl&gt;</th><th scope=col>&lt;dbl&gt;</th><th scope=col>&lt;dbl&gt;</th><th scope=col>&lt;dbl&gt;</th><th scope=col>&lt;dbl&gt;</th><th scope=col>⋯</th><th scope=col>&lt;dbl&gt;</th><th scope=col>&lt;dbl&gt;</th><th scope=col>&lt;dbl&gt;</th><th scope=col>&lt;dbl&gt;</th><th scope=col>&lt;dbl&gt;</th><th scope=col>&lt;dbl&gt;</th><th scope=col>&lt;dbl&gt;</th><th scope=col>&lt;dbl&gt;</th><th scope=col>&lt;dbl&gt;</th><th scope=col>&lt;dbl&gt;</th></tr>\n",
              "</thead>\n",
              "<tbody>\n",
              "\t<tr><th scope=row>209</th><td>2023</td><td>May</td><td>2023-05-01</td><td>2023.333</td><td>4.90</td><td>8.2</td><td>88.2</td><td>3.25</td><td>1.75</td><td>4.75</td><td>⋯</td><td>0.5761</td><td>50</td><td>61</td><td>42</td><td>4.18</td><td> 9.090036</td><td>0.5691</td><td> -6.931794</td><td>2.049104</td><td>86.8</td></tr>\n",
              "\t<tr><th scope=row>210</th><td>2023</td><td>Jun</td><td>2023-06-01</td><td>2023.417</td><td>4.31</td><td>7.7</td><td>92.3</td><td>3.25</td><td>1.75</td><td>4.75</td><td>⋯</td><td>0.5798</td><td>46</td><td>65</td><td>39</td><td>3.94</td><td> 9.341928</td><td>0.5761</td><td> -8.596791</td><td>1.820877</td><td>88.2</td></tr>\n",
              "\t<tr><th scope=row>211</th><td>2023</td><td>Jul</td><td>2023-07-01</td><td>2023.500</td><td>4.18</td><td>7.5</td><td>94.8</td><td>3.25</td><td>1.75</td><td>4.75</td><td>⋯</td><td>0.5839</td><td>45</td><td>56</td><td>28</td><td>3.16</td><td>10.168670</td><td>0.5798</td><td>-11.636983</td><td>2.343861</td><td>92.3</td></tr>\n",
              "\t<tr><th scope=row>212</th><td>2023</td><td>Aug</td><td>2023-08-01</td><td>2023.583</td><td>4.15</td><td>7.3</td><td>96.8</td><td>3.25</td><td>1.75</td><td>4.75</td><td>⋯</td><td>0.5894</td><td>49</td><td>88</td><td>32</td><td>3.99</td><td> 9.289355</td><td>0.5839</td><td>-11.223591</td><td>3.259738</td><td>94.8</td></tr>\n",
              "\t<tr><th scope=row>213</th><td>2023</td><td>Sep</td><td>2023-09-01</td><td>2023.667</td><td>4.08</td><td>7.3</td><td>97.0</td><td>3.25</td><td>1.75</td><td>4.75</td><td>⋯</td><td>0.5902</td><td>46</td><td>76</td><td>29</td><td>4.61</td><td> 8.201893</td><td>0.5894</td><td>-10.155921</td><td>3.639620</td><td>96.8</td></tr>\n",
              "</tbody>\n",
              "</table>\n"
            ],
            "text/markdown": "\nA data.frame: 5 × 34\n\n| <!--/--> | year &lt;dbl&gt; | month_name &lt;ord&gt; | month_date &lt;date&gt; | month &lt;dbl&gt; | market_inflation_expectation &lt;dbl&gt; | consumer_inflation_expectation &lt;dbl&gt; | consumer_confidence_index &lt;dbl&gt; | inflation_target &lt;dbl&gt; | inflation_target_lower_bound &lt;dbl&gt; | inflation_target_upper_bound &lt;dbl&gt; | ⋯ ⋯ | primary_fiscal_result_to_gdp &lt;dbl&gt; | search_term_ipca &lt;dbl&gt; | search_term_selic &lt;dbl&gt; | search_term_inflation &lt;dbl&gt; | ipca_lag &lt;dbl&gt; | selic_deflated_lag &lt;dbl&gt; | primary_fiscal_result_to_gdp_lag &lt;dbl&gt; | real_exchange_rate_gap_lag &lt;dbl&gt; | real_household_income_gap_lag &lt;dbl&gt; | consumer_confidence_index_lag &lt;dbl&gt; |\n|---|---|---|---|---|---|---|---|---|---|---|---|---|---|---|---|---|---|---|---|---|---|\n| 209 | 2023 | May | 2023-05-01 | 2023.333 | 4.90 | 8.2 | 88.2 | 3.25 | 1.75 | 4.75 | ⋯ | 0.5761 | 50 | 61 | 42 | 4.18 |  9.090036 | 0.5691 |  -6.931794 | 2.049104 | 86.8 |\n| 210 | 2023 | Jun | 2023-06-01 | 2023.417 | 4.31 | 7.7 | 92.3 | 3.25 | 1.75 | 4.75 | ⋯ | 0.5798 | 46 | 65 | 39 | 3.94 |  9.341928 | 0.5761 |  -8.596791 | 1.820877 | 88.2 |\n| 211 | 2023 | Jul | 2023-07-01 | 2023.500 | 4.18 | 7.5 | 94.8 | 3.25 | 1.75 | 4.75 | ⋯ | 0.5839 | 45 | 56 | 28 | 3.16 | 10.168670 | 0.5798 | -11.636983 | 2.343861 | 92.3 |\n| 212 | 2023 | Aug | 2023-08-01 | 2023.583 | 4.15 | 7.3 | 96.8 | 3.25 | 1.75 | 4.75 | ⋯ | 0.5894 | 49 | 88 | 32 | 3.99 |  9.289355 | 0.5839 | -11.223591 | 3.259738 | 94.8 |\n| 213 | 2023 | Sep | 2023-09-01 | 2023.667 | 4.08 | 7.3 | 97.0 | 3.25 | 1.75 | 4.75 | ⋯ | 0.5902 | 46 | 76 | 29 | 4.61 |  8.201893 | 0.5894 | -10.155921 | 3.639620 | 96.8 |\n\n",
            "text/latex": "A data.frame: 5 × 34\n\\begin{tabular}{r|lllllllllllllllllllll}\n  & year & month\\_name & month\\_date & month & market\\_inflation\\_expectation & consumer\\_inflation\\_expectation & consumer\\_confidence\\_index & inflation\\_target & inflation\\_target\\_lower\\_bound & inflation\\_target\\_upper\\_bound & ⋯ & primary\\_fiscal\\_result\\_to\\_gdp & search\\_term\\_ipca & search\\_term\\_selic & search\\_term\\_inflation & ipca\\_lag & selic\\_deflated\\_lag & primary\\_fiscal\\_result\\_to\\_gdp\\_lag & real\\_exchange\\_rate\\_gap\\_lag & real\\_household\\_income\\_gap\\_lag & consumer\\_confidence\\_index\\_lag\\\\\n  & <dbl> & <ord> & <date> & <dbl> & <dbl> & <dbl> & <dbl> & <dbl> & <dbl> & <dbl> & ⋯ & <dbl> & <dbl> & <dbl> & <dbl> & <dbl> & <dbl> & <dbl> & <dbl> & <dbl> & <dbl>\\\\\n\\hline\n\t209 & 2023 & May & 2023-05-01 & 2023.333 & 4.90 & 8.2 & 88.2 & 3.25 & 1.75 & 4.75 & ⋯ & 0.5761 & 50 & 61 & 42 & 4.18 &  9.090036 & 0.5691 &  -6.931794 & 2.049104 & 86.8\\\\\n\t210 & 2023 & Jun & 2023-06-01 & 2023.417 & 4.31 & 7.7 & 92.3 & 3.25 & 1.75 & 4.75 & ⋯ & 0.5798 & 46 & 65 & 39 & 3.94 &  9.341928 & 0.5761 &  -8.596791 & 1.820877 & 88.2\\\\\n\t211 & 2023 & Jul & 2023-07-01 & 2023.500 & 4.18 & 7.5 & 94.8 & 3.25 & 1.75 & 4.75 & ⋯ & 0.5839 & 45 & 56 & 28 & 3.16 & 10.168670 & 0.5798 & -11.636983 & 2.343861 & 92.3\\\\\n\t212 & 2023 & Aug & 2023-08-01 & 2023.583 & 4.15 & 7.3 & 96.8 & 3.25 & 1.75 & 4.75 & ⋯ & 0.5894 & 49 & 88 & 32 & 3.99 &  9.289355 & 0.5839 & -11.223591 & 3.259738 & 94.8\\\\\n\t213 & 2023 & Sep & 2023-09-01 & 2023.667 & 4.08 & 7.3 & 97.0 & 3.25 & 1.75 & 4.75 & ⋯ & 0.5902 & 46 & 76 & 29 & 4.61 &  8.201893 & 0.5894 & -10.155921 & 3.639620 & 96.8\\\\\n\\end{tabular}\n",
            "text/plain": [
              "    year month_name month_date month    market_inflation_expectation\n",
              "209 2023 May        2023-05-01 2023.333 4.90                        \n",
              "210 2023 Jun        2023-06-01 2023.417 4.31                        \n",
              "211 2023 Jul        2023-07-01 2023.500 4.18                        \n",
              "212 2023 Aug        2023-08-01 2023.583 4.15                        \n",
              "213 2023 Sep        2023-09-01 2023.667 4.08                        \n",
              "    consumer_inflation_expectation consumer_confidence_index inflation_target\n",
              "209 8.2                            88.2                      3.25            \n",
              "210 7.7                            92.3                      3.25            \n",
              "211 7.5                            94.8                      3.25            \n",
              "212 7.3                            96.8                      3.25            \n",
              "213 7.3                            97.0                      3.25            \n",
              "    inflation_target_lower_bound inflation_target_upper_bound ⋯\n",
              "209 1.75                         4.75                         ⋯\n",
              "210 1.75                         4.75                         ⋯\n",
              "211 1.75                         4.75                         ⋯\n",
              "212 1.75                         4.75                         ⋯\n",
              "213 1.75                         4.75                         ⋯\n",
              "    primary_fiscal_result_to_gdp search_term_ipca search_term_selic\n",
              "209 0.5761                       50               61               \n",
              "210 0.5798                       46               65               \n",
              "211 0.5839                       45               56               \n",
              "212 0.5894                       49               88               \n",
              "213 0.5902                       46               76               \n",
              "    search_term_inflation ipca_lag selic_deflated_lag\n",
              "209 42                    4.18      9.090036         \n",
              "210 39                    3.94      9.341928         \n",
              "211 28                    3.16     10.168670         \n",
              "212 32                    3.99      9.289355         \n",
              "213 29                    4.61      8.201893         \n",
              "    primary_fiscal_result_to_gdp_lag real_exchange_rate_gap_lag\n",
              "209 0.5691                            -6.931794                \n",
              "210 0.5761                            -8.596791                \n",
              "211 0.5798                           -11.636983                \n",
              "212 0.5839                           -11.223591                \n",
              "213 0.5894                           -10.155921                \n",
              "    real_household_income_gap_lag consumer_confidence_index_lag\n",
              "209 2.049104                      86.8                         \n",
              "210 1.820877                      88.2                         \n",
              "211 2.343861                      92.3                         \n",
              "212 3.259738                      94.8                         \n",
              "213 3.639620                      96.8                         "
            ]
          },
          "metadata": {}
        }
      ]
    },
    {
      "cell_type": "markdown",
      "metadata": {
        "id": "BtWrxUCX5iG2"
      },
      "source": [
        "- #### **Salvar em formato `.csv` e `.xlsx`**"
      ]
    },
    {
      "cell_type": "code",
      "execution_count": 15,
      "metadata": {
        "id": "6prspGu35tBC"
      },
      "outputs": [],
      "source": [
        "# Salve o DataFrame como um arquivo CSV localmente\n",
        "write.csv(df_public_data, file = \"public_data.csv\", row.names = FALSE)"
      ]
    },
    {
      "cell_type": "code",
      "execution_count": 16,
      "metadata": {
        "id": "xOSZhRLm1ieu"
      },
      "outputs": [],
      "source": [
        "# Salve o DataFrame como um arquivo XLSX localmente\n",
        "write_xlsx(df_public_data, path = \"/content/public_data.xlsx\")"
      ]
    }
  ],
  "metadata": {
    "colab": {
      "provenance": [],
      "authorship_tag": "ABX9TyPY27LeSNDNkc8h6ndt8yJO"
    },
    "kernelspec": {
      "display_name": "R",
      "name": "ir"
    },
    "language_info": {
      "name": "R"
    }
  },
  "nbformat": 4,
  "nbformat_minor": 0
}